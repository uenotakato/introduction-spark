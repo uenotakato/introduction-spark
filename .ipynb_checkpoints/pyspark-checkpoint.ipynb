{
 "cells": [
  {
   "cell_type": "code",
   "execution_count": 1,
   "metadata": {
    "slideshow": {
     "slide_type": "skip"
    }
   },
   "outputs": [
    {
     "data": {
      "text/html": [
       "<link rel=\"stylesheet\" href=\"custom.css\">\n"
      ],
      "text/plain": [
       "<IPython.core.display.HTML object>"
      ]
     },
     "metadata": {},
     "output_type": "display_data"
    }
   ],
   "source": [
    "%%HTML\n",
    "<link rel=\"stylesheet\" href=\"custom.css\">"
   ]
  },
  {
   "cell_type": "markdown",
   "metadata": {
    "jp-MarkdownHeadingCollapsed": true,
    "slideshow": {
     "slide_type": "slide"
    },
    "tags": []
   },
   "source": [
    "# Data ScienceのためのPython，その先へ\n",
    "<hr> \n",
    "\n",
    "#### ゼロからのpandasの使い方とPysparkへの架け橋\n",
    "株式会社ネットプロテクションズ\n",
    "関西開発インターン生　上野孝斗"
   ]
  },
  {
   "cell_type": "markdown",
   "metadata": {
    "slideshow": {
     "slide_type": "slide"
    },
    "tags": []
   },
   "source": [
    "# 本日の内容\n",
    "<hr>\n",
    "\n",
    "- はじめに\n",
    "- 自己紹介\n",
    "- Pythonについて\n",
    "- Pandasの実際\n",
    "- Apache Sparkについて\n",
    "- Pysparkについて\n",
    "- Pysparkの実際\n",
    "- PandasとPysparkの比較\n",
    "- 参考"
   ]
  },
  {
   "cell_type": "markdown",
   "metadata": {},
   "source": [
    "## はじめに\n",
    "<hr>\n",
    "\n",
    "- 本スライドの元となったipynbファイルや環境構築の方法は以下のリポジトリにまとめてあります\n",
    "\n",
    "- "
   ]
  },
  {
   "cell_type": "markdown",
   "metadata": {
    "jp-MarkdownHeadingCollapsed": true,
    "slideshow": {
     "slide_type": "slide"
    },
    "tags": []
   },
   "source": [
    "# 自己紹介\n",
    "<hr>\n",
    "\n",
    "- NPには6月からジョイン\n",
    "- 担当業務はAFTEE\n",
    "- 大学の専攻は強化学習の理論[1]\n",
    "- 趣味は散歩，ゲーム，映画鑑賞\n",
    "\n",
    "\n",
    "<div>\n",
    "<div style=\"position:absolute; top:200px; left:1000px\">\n",
    "<img src = \"pic1.jpg\" width=\"175px\">\n",
    "</div>"
   ]
  },
  {
   "cell_type": "markdown",
   "metadata": {
    "jp-MarkdownHeadingCollapsed": true,
    "slideshow": {
     "slide_type": "slide"
    },
    "tags": []
   },
   "source": [
    "# Pythonについて"
   ]
  },
  {
   "cell_type": "markdown",
   "metadata": {
    "slideshow": {
     "slide_type": "slide"
    }
   },
   "source": [
    "## Pythonの概要\n",
    "<hr>\n",
    "\n",
    "- Python[2]は1990年代初期オランダで生まれたプログラミング言語\n",
    "- その習得のしやすさから，入門用として使われる\n",
    "- 一方，企業でもよく使われている\n"
   ]
  },
  {
   "cell_type": "markdown",
   "metadata": {
    "slideshow": {
     "slide_type": "slide"
    }
   },
   "source": [
    "## Pythonの主な利用用途\n",
    "<hr>\n",
    "\n",
    "- データサイエンスおよび数値計算\n",
    "- Webアプリケーション\n",
    "- システム管理及びグルー用語\n",
    "- 教育"
   ]
  },
  {
   "cell_type": "markdown",
   "metadata": {
    "slideshow": {
     "slide_type": "fragment"
    }
   },
   "source": [
    "PythonがGlue言語と言われる理由については以下の参考文献をチェック  \n",
    "https://qiita.com/kawamou/items/05028c1a871d42119473"
   ]
  },
  {
   "cell_type": "markdown",
   "metadata": {
    "slideshow": {
     "slide_type": "slide"
    }
   },
   "source": [
    "## フリートーク\n",
    "<hr>\n",
    "\n",
    "- お題：Pythonライブラリについて\n",
    "- 知っているものでも，好きなものでも\n",
    "- 実はR派...(ﾎﾞｿｯ)みたいなのも"
   ]
  },
  {
   "cell_type": "markdown",
   "metadata": {
    "slideshow": {
     "slide_type": "slide"
    }
   },
   "source": [
    "## 有名なライブラリは数あれどやはり...\n",
    "<hr>\n",
    "\n",
    "- Pythonのライブラリといえばpandas!!(多分)\n",
    "- ...pandasについて少し紹介します"
   ]
  },
  {
   "cell_type": "markdown",
   "metadata": {},
   "source": [
    "進行上の都合になります"
   ]
  },
  {
   "cell_type": "markdown",
   "metadata": {
    "slideshow": {
     "slide_type": "slide"
    },
    "tags": []
   },
   "source": [
    "# pandasについて"
   ]
  },
  {
   "cell_type": "markdown",
   "metadata": {
    "slideshow": {
     "slide_type": "slide"
    }
   },
   "source": [
    "## pandasの概要\n",
    "<hr>\n",
    "\n",
    "- pandas[3]はPythonのライブラリの一つ\n",
    "- PythonでDataScienceするときはまずはとりあえずpandas\n",
    "- `pandas.DataFrame`オブジェクトによって，データフレームを作ることができる"
   ]
  },
  {
   "cell_type": "markdown",
   "metadata": {
    "slideshow": {
     "slide_type": "slide"
    }
   },
   "source": [
    "## 補足：データフレームについて\n",
    "<hr>\n",
    "\n",
    "- さまざまな種類のデータフレームが存在(dask,pandas,pickle,parquet...)する\n",
    "- ざっくり言うと，データフレーム＝二次元の表形式のデータ\n",
    "- 言い換えると，テーブルデータ，ラベル付き二次元配列"
   ]
  },
  {
   "cell_type": "markdown",
   "metadata": {
    "slideshow": {
     "slide_type": "slide"
    }
   },
   "source": [
    "## データフレームをpandasで作成\n",
    "<hr>\n",
    "\n",
    "- pandasでデータフレームを作成する\n",
    "- 10 minutes to pandas[4]より"
   ]
  },
  {
   "cell_type": "code",
   "execution_count": 2,
   "metadata": {
    "slideshow": {
     "slide_type": "slide"
    }
   },
   "outputs": [
    {
     "data": {
      "text/html": [
       "<div>\n",
       "<style scoped>\n",
       "    .dataframe tbody tr th:only-of-type {\n",
       "        vertical-align: middle;\n",
       "    }\n",
       "\n",
       "    .dataframe tbody tr th {\n",
       "        vertical-align: top;\n",
       "    }\n",
       "\n",
       "    .dataframe thead th {\n",
       "        text-align: right;\n",
       "    }\n",
       "</style>\n",
       "<table border=\"1\" class=\"dataframe\">\n",
       "  <thead>\n",
       "    <tr style=\"text-align: right;\">\n",
       "      <th></th>\n",
       "      <th>A</th>\n",
       "      <th>B</th>\n",
       "      <th>C</th>\n",
       "      <th>D</th>\n",
       "    </tr>\n",
       "  </thead>\n",
       "  <tbody>\n",
       "    <tr>\n",
       "      <th>2013-01-01</th>\n",
       "      <td>0.816949</td>\n",
       "      <td>0.667117</td>\n",
       "      <td>0.651120</td>\n",
       "      <td>-0.477194</td>\n",
       "    </tr>\n",
       "    <tr>\n",
       "      <th>2013-01-02</th>\n",
       "      <td>-1.293319</td>\n",
       "      <td>-1.653912</td>\n",
       "      <td>0.116168</td>\n",
       "      <td>0.531565</td>\n",
       "    </tr>\n",
       "    <tr>\n",
       "      <th>2013-01-03</th>\n",
       "      <td>-1.800602</td>\n",
       "      <td>0.703103</td>\n",
       "      <td>-0.546573</td>\n",
       "      <td>-1.144586</td>\n",
       "    </tr>\n",
       "    <tr>\n",
       "      <th>2013-01-04</th>\n",
       "      <td>0.005940</td>\n",
       "      <td>0.302209</td>\n",
       "      <td>0.986788</td>\n",
       "      <td>0.919477</td>\n",
       "    </tr>\n",
       "    <tr>\n",
       "      <th>2013-01-05</th>\n",
       "      <td>1.916279</td>\n",
       "      <td>0.932092</td>\n",
       "      <td>-1.393374</td>\n",
       "      <td>-1.680213</td>\n",
       "    </tr>\n",
       "    <tr>\n",
       "      <th>2013-01-06</th>\n",
       "      <td>-0.289524</td>\n",
       "      <td>0.594429</td>\n",
       "      <td>-0.425827</td>\n",
       "      <td>0.915252</td>\n",
       "    </tr>\n",
       "  </tbody>\n",
       "</table>\n",
       "</div>"
      ],
      "text/plain": [
       "                   A         B         C         D\n",
       "2013-01-01  0.816949  0.667117  0.651120 -0.477194\n",
       "2013-01-02 -1.293319 -1.653912  0.116168  0.531565\n",
       "2013-01-03 -1.800602  0.703103 -0.546573 -1.144586\n",
       "2013-01-04  0.005940  0.302209  0.986788  0.919477\n",
       "2013-01-05  1.916279  0.932092 -1.393374 -1.680213\n",
       "2013-01-06 -0.289524  0.594429 -0.425827  0.915252"
      ]
     },
     "execution_count": 2,
     "metadata": {},
     "output_type": "execute_result"
    }
   ],
   "source": [
    "import pandas as pd\n",
    "import numpy as np\n",
    "\n",
    "pd.set_option('display.max_columns', None)\n",
    "pd.set_option('display.max_rows', None)\n",
    "\n",
    "dates = pd.date_range(\"20130101\", periods=6)\n",
    "df = pd.DataFrame(np.random.randn(6, 4), index=dates, columns=list(\"ABCD\"))\n",
    "df"
   ]
  },
  {
   "cell_type": "markdown",
   "metadata": {
    "slideshow": {
     "slide_type": "slide"
    }
   },
   "source": [
    "# pandasでできること"
   ]
  },
  {
   "cell_type": "markdown",
   "metadata": {
    "slideshow": {
     "slide_type": "slide"
    }
   },
   "source": [
    "## 抽出（WHERE）\n",
    "<hr>\n",
    "\n",
    "- [6]を全体的に参考にした\n",
    "- まずはデータを作る"
   ]
  },
  {
   "cell_type": "code",
   "execution_count": 3,
   "metadata": {
    "slideshow": {
     "slide_type": "fragment"
    }
   },
   "outputs": [
    {
     "data": {
      "text/html": [
       "<div>\n",
       "<style scoped>\n",
       "    .dataframe tbody tr th:only-of-type {\n",
       "        vertical-align: middle;\n",
       "    }\n",
       "\n",
       "    .dataframe tbody tr th {\n",
       "        vertical-align: top;\n",
       "    }\n",
       "\n",
       "    .dataframe thead th {\n",
       "        text-align: right;\n",
       "    }\n",
       "</style>\n",
       "<table border=\"1\" class=\"dataframe\">\n",
       "  <thead>\n",
       "    <tr style=\"text-align: right;\">\n",
       "      <th></th>\n",
       "      <th>student</th>\n",
       "      <th>class</th>\n",
       "      <th>score</th>\n",
       "    </tr>\n",
       "  </thead>\n",
       "  <tbody>\n",
       "    <tr>\n",
       "      <th>0</th>\n",
       "      <td>Larissa</td>\n",
       "      <td>A</td>\n",
       "      <td>50</td>\n",
       "    </tr>\n",
       "    <tr>\n",
       "      <th>1</th>\n",
       "      <td>Jaylan</td>\n",
       "      <td>B</td>\n",
       "      <td>69</td>\n",
       "    </tr>\n",
       "    <tr>\n",
       "      <th>2</th>\n",
       "      <td>Golda</td>\n",
       "      <td>A</td>\n",
       "      <td>68</td>\n",
       "    </tr>\n",
       "    <tr>\n",
       "      <th>3</th>\n",
       "      <td>Myriam</td>\n",
       "      <td>A</td>\n",
       "      <td>70</td>\n",
       "    </tr>\n",
       "    <tr>\n",
       "      <th>4</th>\n",
       "      <td>Fabiola</td>\n",
       "      <td>C</td>\n",
       "      <td>82</td>\n",
       "    </tr>\n",
       "    <tr>\n",
       "      <th>5</th>\n",
       "      <td>Abigail</td>\n",
       "      <td>C</td>\n",
       "      <td>57</td>\n",
       "    </tr>\n",
       "    <tr>\n",
       "      <th>6</th>\n",
       "      <td>Hardy</td>\n",
       "      <td>B</td>\n",
       "      <td>88</td>\n",
       "    </tr>\n",
       "    <tr>\n",
       "      <th>7</th>\n",
       "      <td>Jeromy</td>\n",
       "      <td>C</td>\n",
       "      <td>93</td>\n",
       "    </tr>\n",
       "  </tbody>\n",
       "</table>\n",
       "</div>"
      ],
      "text/plain": [
       "   student class  score\n",
       "0  Larissa     A     50\n",
       "1   Jaylan     B     69\n",
       "2    Golda     A     68\n",
       "3   Myriam     A     70\n",
       "4  Fabiola     C     82\n",
       "5  Abigail     C     57\n",
       "6    Hardy     B     88\n",
       "7   Jeromy     C     93"
      ]
     },
     "execution_count": 3,
     "metadata": {},
     "output_type": "execute_result"
    }
   ],
   "source": [
    "pdf = pd.DataFrame({\n",
    "    'student': ['Larissa', 'Jaylan', 'Golda', 'Myriam', 'Fabiola', 'Abigail', 'Hardy', 'Jeromy'],\n",
    "    'class': list('ABAACCBC'),\n",
    "    'score': [50, 69, 68, 70, 82, 57, 88, 93],\n",
    "})\n",
    "pdf"
   ]
  },
  {
   "cell_type": "markdown",
   "metadata": {
    "slideshow": {
     "slide_type": "slide"
    }
   },
   "source": [
    "- このデータからA組のテスト結果の点数と生徒の名前を抽出する．もしSQLでやるならこのようになる．\n",
    "\n",
    "```\n",
    "SELECT id, student, class\n",
    "FROM test_result\n",
    "WHERE class == 'A'\n",
    "```\n",
    "- pandasを使った場合は以下のように書ける"
   ]
  },
  {
   "cell_type": "code",
   "execution_count": 4,
   "metadata": {
    "slideshow": {
     "slide_type": "fragment"
    }
   },
   "outputs": [
    {
     "data": {
      "text/html": [
       "<div>\n",
       "<style scoped>\n",
       "    .dataframe tbody tr th:only-of-type {\n",
       "        vertical-align: middle;\n",
       "    }\n",
       "\n",
       "    .dataframe tbody tr th {\n",
       "        vertical-align: top;\n",
       "    }\n",
       "\n",
       "    .dataframe thead th {\n",
       "        text-align: right;\n",
       "    }\n",
       "</style>\n",
       "<table border=\"1\" class=\"dataframe\">\n",
       "  <thead>\n",
       "    <tr style=\"text-align: right;\">\n",
       "      <th></th>\n",
       "      <th>student</th>\n",
       "      <th>score</th>\n",
       "    </tr>\n",
       "  </thead>\n",
       "  <tbody>\n",
       "    <tr>\n",
       "      <th>0</th>\n",
       "      <td>Larissa</td>\n",
       "      <td>50</td>\n",
       "    </tr>\n",
       "    <tr>\n",
       "      <th>2</th>\n",
       "      <td>Golda</td>\n",
       "      <td>68</td>\n",
       "    </tr>\n",
       "    <tr>\n",
       "      <th>3</th>\n",
       "      <td>Myriam</td>\n",
       "      <td>70</td>\n",
       "    </tr>\n",
       "  </tbody>\n",
       "</table>\n",
       "</div>"
      ],
      "text/plain": [
       "   student  score\n",
       "0  Larissa     50\n",
       "2    Golda     68\n",
       "3   Myriam     70"
      ]
     },
     "execution_count": 4,
     "metadata": {},
     "output_type": "execute_result"
    }
   ],
   "source": [
    "pdf.loc[pdf['class'] == 'A', ['student', 'score']]"
   ]
  },
  {
   "cell_type": "markdown",
   "metadata": {
    "slideshow": {
     "slide_type": "fragment"
    }
   },
   "source": [
    "pandasでは，`Dataframe.loc`で行について操作することができるようになる"
   ]
  },
  {
   "cell_type": "markdown",
   "metadata": {
    "slideshow": {
     "slide_type": "slide"
    }
   },
   "source": [
    "## 複数の条件で抽出\n",
    "<hr>\n",
    "\n",
    "- 複数の条件を抽出したいときは`&`や`|`を用いる．`and`や`or`ではエラーが出るので注意\n",
    "- boolean型でも抽出ができる\n",
    "- 「C組のうち、80点以上の生徒」という複数の条件で抽出する"
   ]
  },
  {
   "cell_type": "code",
   "execution_count": 5,
   "metadata": {
    "slideshow": {
     "slide_type": "fragment"
    }
   },
   "outputs": [
    {
     "data": {
      "text/html": [
       "<div>\n",
       "<style scoped>\n",
       "    .dataframe tbody tr th:only-of-type {\n",
       "        vertical-align: middle;\n",
       "    }\n",
       "\n",
       "    .dataframe tbody tr th {\n",
       "        vertical-align: top;\n",
       "    }\n",
       "\n",
       "    .dataframe thead th {\n",
       "        text-align: right;\n",
       "    }\n",
       "</style>\n",
       "<table border=\"1\" class=\"dataframe\">\n",
       "  <thead>\n",
       "    <tr style=\"text-align: right;\">\n",
       "      <th></th>\n",
       "      <th>student</th>\n",
       "      <th>class</th>\n",
       "      <th>score</th>\n",
       "    </tr>\n",
       "  </thead>\n",
       "  <tbody>\n",
       "    <tr>\n",
       "      <th>4</th>\n",
       "      <td>Fabiola</td>\n",
       "      <td>C</td>\n",
       "      <td>82</td>\n",
       "    </tr>\n",
       "    <tr>\n",
       "      <th>7</th>\n",
       "      <td>Jeromy</td>\n",
       "      <td>C</td>\n",
       "      <td>93</td>\n",
       "    </tr>\n",
       "  </tbody>\n",
       "</table>\n",
       "</div>"
      ],
      "text/plain": [
       "   student class  score\n",
       "4  Fabiola     C     82\n",
       "7   Jeromy     C     93"
      ]
     },
     "execution_count": 5,
     "metadata": {},
     "output_type": "execute_result"
    }
   ],
   "source": [
    "pdf.loc[(pdf['class'] == 'C') & (pdf['score'] >= 80)]"
   ]
  },
  {
   "cell_type": "markdown",
   "metadata": {
    "slideshow": {
     "slide_type": "slide"
    }
   },
   "source": [
    "## 結合\n",
    "<hr>\n",
    "\n",
    "- `student`，`attendance`と二つのテーブルを用意する"
   ]
  },
  {
   "cell_type": "code",
   "execution_count": 6,
   "metadata": {
    "slideshow": {
     "slide_type": "fragment"
    }
   },
   "outputs": [],
   "source": [
    "# [7]を参考\n",
    "from IPython.display import HTML\n",
    "from jinja2 import Template\n",
    "\n",
    "student = pd.DataFrame({\n",
    "    'name': ['Larissa', 'Jaylan', 'Golda', 'Myriam', 'Fabiola', 'Abigail', 'Bernice', 'Hardy', 'Jeromy'],\n",
    "    'class': list('ABAACCBBC'),\n",
    "}, index=['A1', 'B1', 'A2', 'A3', 'C1', 'C2', 'B2', 'B3', 'C4'])\n",
    "\n",
    "attendance = pd.DataFrame({\n",
    "    'student_id': ['C2', 'C1', 'C4', 'A1', 'C2', 'B2', 'A1', 'B1', 'B3'],\n",
    "    'subject': ['History', 'Japanese', 'English', 'math', 'math', 'History', 'math', 'math', 'History'],\n",
    "})\n",
    "\n",
    "html_tpl = \"\"\"\n",
    "<table>\n",
    "  <tr>\n",
    "    <td>{{ student }}</td>\n",
    "    <td>{{ attendance }}</td>\n",
    "  </tr>\n",
    "</table>\n",
    "\"\"\""
   ]
  },
  {
   "cell_type": "code",
   "execution_count": 7,
   "metadata": {
    "slideshow": {
     "slide_type": "slide"
    }
   },
   "outputs": [
    {
     "data": {
      "text/html": [
       "\n",
       "<table>\n",
       "  <tr>\n",
       "    <td><table border=\"1\" class=\"dataframe\">\n",
       "  <thead>\n",
       "    <tr style=\"text-align: right;\">\n",
       "      <th></th>\n",
       "      <th>name</th>\n",
       "      <th>class</th>\n",
       "    </tr>\n",
       "  </thead>\n",
       "  <tbody>\n",
       "    <tr>\n",
       "      <th>A1</th>\n",
       "      <td>Larissa</td>\n",
       "      <td>A</td>\n",
       "    </tr>\n",
       "    <tr>\n",
       "      <th>B1</th>\n",
       "      <td>Jaylan</td>\n",
       "      <td>B</td>\n",
       "    </tr>\n",
       "    <tr>\n",
       "      <th>A2</th>\n",
       "      <td>Golda</td>\n",
       "      <td>A</td>\n",
       "    </tr>\n",
       "    <tr>\n",
       "      <th>A3</th>\n",
       "      <td>Myriam</td>\n",
       "      <td>A</td>\n",
       "    </tr>\n",
       "    <tr>\n",
       "      <th>C1</th>\n",
       "      <td>Fabiola</td>\n",
       "      <td>C</td>\n",
       "    </tr>\n",
       "    <tr>\n",
       "      <th>C2</th>\n",
       "      <td>Abigail</td>\n",
       "      <td>C</td>\n",
       "    </tr>\n",
       "    <tr>\n",
       "      <th>B2</th>\n",
       "      <td>Bernice</td>\n",
       "      <td>B</td>\n",
       "    </tr>\n",
       "    <tr>\n",
       "      <th>B3</th>\n",
       "      <td>Hardy</td>\n",
       "      <td>B</td>\n",
       "    </tr>\n",
       "    <tr>\n",
       "      <th>C4</th>\n",
       "      <td>Jeromy</td>\n",
       "      <td>C</td>\n",
       "    </tr>\n",
       "  </tbody>\n",
       "</table></td>\n",
       "    <td><table border=\"1\" class=\"dataframe\">\n",
       "  <thead>\n",
       "    <tr style=\"text-align: right;\">\n",
       "      <th></th>\n",
       "      <th>student_id</th>\n",
       "      <th>subject</th>\n",
       "    </tr>\n",
       "  </thead>\n",
       "  <tbody>\n",
       "    <tr>\n",
       "      <th>0</th>\n",
       "      <td>C2</td>\n",
       "      <td>History</td>\n",
       "    </tr>\n",
       "    <tr>\n",
       "      <th>1</th>\n",
       "      <td>C1</td>\n",
       "      <td>Japanese</td>\n",
       "    </tr>\n",
       "    <tr>\n",
       "      <th>2</th>\n",
       "      <td>C4</td>\n",
       "      <td>English</td>\n",
       "    </tr>\n",
       "    <tr>\n",
       "      <th>3</th>\n",
       "      <td>A1</td>\n",
       "      <td>math</td>\n",
       "    </tr>\n",
       "    <tr>\n",
       "      <th>4</th>\n",
       "      <td>C2</td>\n",
       "      <td>math</td>\n",
       "    </tr>\n",
       "    <tr>\n",
       "      <th>5</th>\n",
       "      <td>B2</td>\n",
       "      <td>History</td>\n",
       "    </tr>\n",
       "    <tr>\n",
       "      <th>6</th>\n",
       "      <td>A1</td>\n",
       "      <td>math</td>\n",
       "    </tr>\n",
       "    <tr>\n",
       "      <th>7</th>\n",
       "      <td>B1</td>\n",
       "      <td>math</td>\n",
       "    </tr>\n",
       "    <tr>\n",
       "      <th>8</th>\n",
       "      <td>B3</td>\n",
       "      <td>History</td>\n",
       "    </tr>\n",
       "  </tbody>\n",
       "</table></td>\n",
       "  </tr>\n",
       "</table>"
      ],
      "text/plain": [
       "<IPython.core.display.HTML object>"
      ]
     },
     "execution_count": 7,
     "metadata": {},
     "output_type": "execute_result"
    }
   ],
   "source": [
    "tpl = Template(html_tpl)\n",
    "html_text = tpl.render({\"attendance\": attendance.to_html(), \"student\": student.to_html()})\n",
    "\n",
    "HTML(html_text)"
   ]
  },
  {
   "cell_type": "markdown",
   "metadata": {
    "slideshow": {
     "slide_type": "slide"
    }
   },
   "source": [
    "- `INNER JOIN`はSQLだと以下のようになる\n",
    "```\n",
    "SELECT *\n",
    "FROM attendance INNER JOIN student\n",
    "  ON attendance.student_id = student.id\n",
    "```\n",
    "- pandasではこのようになる"
   ]
  },
  {
   "cell_type": "code",
   "execution_count": 8,
   "metadata": {
    "slideshow": {
     "slide_type": "fragment"
    }
   },
   "outputs": [
    {
     "data": {
      "text/html": [
       "<div>\n",
       "<style scoped>\n",
       "    .dataframe tbody tr th:only-of-type {\n",
       "        vertical-align: middle;\n",
       "    }\n",
       "\n",
       "    .dataframe tbody tr th {\n",
       "        vertical-align: top;\n",
       "    }\n",
       "\n",
       "    .dataframe thead th {\n",
       "        text-align: right;\n",
       "    }\n",
       "</style>\n",
       "<table border=\"1\" class=\"dataframe\">\n",
       "  <thead>\n",
       "    <tr style=\"text-align: right;\">\n",
       "      <th></th>\n",
       "      <th>student_id</th>\n",
       "      <th>subject</th>\n",
       "      <th>name</th>\n",
       "      <th>class</th>\n",
       "    </tr>\n",
       "  </thead>\n",
       "  <tbody>\n",
       "    <tr>\n",
       "      <th>0</th>\n",
       "      <td>C2</td>\n",
       "      <td>History</td>\n",
       "      <td>Abigail</td>\n",
       "      <td>C</td>\n",
       "    </tr>\n",
       "    <tr>\n",
       "      <th>4</th>\n",
       "      <td>C2</td>\n",
       "      <td>math</td>\n",
       "      <td>Abigail</td>\n",
       "      <td>C</td>\n",
       "    </tr>\n",
       "    <tr>\n",
       "      <th>1</th>\n",
       "      <td>C1</td>\n",
       "      <td>Japanese</td>\n",
       "      <td>Fabiola</td>\n",
       "      <td>C</td>\n",
       "    </tr>\n",
       "    <tr>\n",
       "      <th>2</th>\n",
       "      <td>C4</td>\n",
       "      <td>English</td>\n",
       "      <td>Jeromy</td>\n",
       "      <td>C</td>\n",
       "    </tr>\n",
       "    <tr>\n",
       "      <th>3</th>\n",
       "      <td>A1</td>\n",
       "      <td>math</td>\n",
       "      <td>Larissa</td>\n",
       "      <td>A</td>\n",
       "    </tr>\n",
       "    <tr>\n",
       "      <th>6</th>\n",
       "      <td>A1</td>\n",
       "      <td>math</td>\n",
       "      <td>Larissa</td>\n",
       "      <td>A</td>\n",
       "    </tr>\n",
       "    <tr>\n",
       "      <th>5</th>\n",
       "      <td>B2</td>\n",
       "      <td>History</td>\n",
       "      <td>Bernice</td>\n",
       "      <td>B</td>\n",
       "    </tr>\n",
       "    <tr>\n",
       "      <th>7</th>\n",
       "      <td>B1</td>\n",
       "      <td>math</td>\n",
       "      <td>Jaylan</td>\n",
       "      <td>B</td>\n",
       "    </tr>\n",
       "    <tr>\n",
       "      <th>8</th>\n",
       "      <td>B3</td>\n",
       "      <td>History</td>\n",
       "      <td>Hardy</td>\n",
       "      <td>B</td>\n",
       "    </tr>\n",
       "  </tbody>\n",
       "</table>\n",
       "</div>"
      ],
      "text/plain": [
       "  student_id   subject     name class\n",
       "0         C2   History  Abigail     C\n",
       "4         C2      math  Abigail     C\n",
       "1         C1  Japanese  Fabiola     C\n",
       "2         C4   English   Jeromy     C\n",
       "3         A1      math  Larissa     A\n",
       "6         A1      math  Larissa     A\n",
       "5         B2   History  Bernice     B\n",
       "7         B1      math   Jaylan     B\n",
       "8         B3   History    Hardy     B"
      ]
     },
     "execution_count": 8,
     "metadata": {},
     "output_type": "execute_result"
    }
   ],
   "source": [
    "pd.merge(attendance, student, left_on='student_id', right_index=True)"
   ]
  },
  {
   "cell_type": "markdown",
   "metadata": {
    "slideshow": {
     "slide_type": "slide"
    },
    "tags": []
   },
   "source": [
    "- 続いて`LEFT JOIN`をやってみる\n",
    "- 「B組の生徒について、歴史（History）への出席情報」を取得する\n",
    "- SQLでは以下のようになる\n",
    "\n",
    "```\n",
    "SELECT *\n",
    "FROM student LEFT JOIN attendance\n",
    "  ON student.id = attendance.student_id\n",
    "WHERE student.class = 'B' AND attendance.subject = 'History'\n",
    "```"
   ]
  },
  {
   "cell_type": "markdown",
   "metadata": {
    "slideshow": {
     "slide_type": "slide"
    },
    "tags": []
   },
   "source": [
    "- pandasでは次のようにする"
   ]
  },
  {
   "cell_type": "code",
   "execution_count": 9,
   "metadata": {
    "slideshow": {
     "slide_type": "fragment"
    },
    "tags": []
   },
   "outputs": [
    {
     "data": {
      "text/html": [
       "<div>\n",
       "<style scoped>\n",
       "    .dataframe tbody tr th:only-of-type {\n",
       "        vertical-align: middle;\n",
       "    }\n",
       "\n",
       "    .dataframe tbody tr th {\n",
       "        vertical-align: top;\n",
       "    }\n",
       "\n",
       "    .dataframe thead th {\n",
       "        text-align: right;\n",
       "    }\n",
       "</style>\n",
       "<table border=\"1\" class=\"dataframe\">\n",
       "  <thead>\n",
       "    <tr style=\"text-align: right;\">\n",
       "      <th></th>\n",
       "      <th>name</th>\n",
       "      <th>class</th>\n",
       "      <th>student_id</th>\n",
       "      <th>subject</th>\n",
       "    </tr>\n",
       "  </thead>\n",
       "  <tbody>\n",
       "    <tr>\n",
       "      <th>NaN</th>\n",
       "      <td>Jaylan</td>\n",
       "      <td>B</td>\n",
       "      <td>B1</td>\n",
       "      <td>NaN</td>\n",
       "    </tr>\n",
       "    <tr>\n",
       "      <th>5.0</th>\n",
       "      <td>Bernice</td>\n",
       "      <td>B</td>\n",
       "      <td>B2</td>\n",
       "      <td>History</td>\n",
       "    </tr>\n",
       "    <tr>\n",
       "      <th>8.0</th>\n",
       "      <td>Hardy</td>\n",
       "      <td>B</td>\n",
       "      <td>B3</td>\n",
       "      <td>History</td>\n",
       "    </tr>\n",
       "  </tbody>\n",
       "</table>\n",
       "</div>"
      ],
      "text/plain": [
       "        name class student_id  subject\n",
       "NaN   Jaylan     B         B1      NaN\n",
       "5.0  Bernice     B         B2  History\n",
       "8.0    Hardy     B         B3  History"
      ]
     },
     "execution_count": 9,
     "metadata": {},
     "output_type": "execute_result"
    }
   ],
   "source": [
    "# 各DataFrameからB組、およびHistoryの出席情報をそれぞれ抽出\n",
    "b_student = student.loc[student['class'] == 'B']\n",
    "history_attendance = attendance.loc[attendance['subject'] == 'History']\n",
    "\n",
    "# LEFT JOINを実行\n",
    "pd.merge(\n",
    "    b_student,\n",
    "    history_attendance,\n",
    "    left_index=True,\n",
    "    right_on='student_id',\n",
    "    how='left',\n",
    ")"
   ]
  },
  {
   "cell_type": "markdown",
   "metadata": {
    "slideshow": {
     "slide_type": "slide"
    }
   },
   "source": [
    "- `pd.merge()`では．結合に使う列名を指定できる\n",
    "- 列名の左右について注意が必要\n",
    "![](pic2.png)"
   ]
  },
  {
   "cell_type": "markdown",
   "metadata": {
    "slideshow": {
     "slide_type": "slide"
    },
    "tags": []
   },
   "source": [
    "## 集約（GROUP BY）\n",
    "<hr>\n",
    "\n",
    "以下のような`test_result`テーブルを例にする"
   ]
  },
  {
   "cell_type": "code",
   "execution_count": 10,
   "metadata": {
    "slideshow": {
     "slide_type": "fragment"
    },
    "tags": []
   },
   "outputs": [],
   "source": [
    "test_result = pd.DataFrame({\n",
    "    'name': np.sort(['Larissa', 'Jaylan', 'Golda', 'Myriam', 'Fabiola', 'Abigail', 'Bernice', 'Hardy', 'Jeromy'] * 2),\n",
    "    'class': np.sort(list('AABBCC') * 3),\n",
    "    'subject': ['math', 'English'] * 9,\n",
    "    'score': [50, 72, 96, 74, 66, 65, 51, 65, 85, 69, 53, 76, 44, 77, 56, 56, 52, 68],\n",
    "})"
   ]
  },
  {
   "cell_type": "markdown",
   "metadata": {
    "slideshow": {
     "slide_type": "slide"
    },
    "tags": []
   },
   "source": [
    "- 集約関数が一つのとき\n",
    "- 例えば，「クラスごと，教科ごとの平均点」を求めてみる\n",
    "- SQLでは以下のようになる\n",
    "\n",
    "```\n",
    "SELECT class, subject, avg(score)\n",
    "FROM test_result\n",
    "GROUP BY class, subject\n",
    "```"
   ]
  },
  {
   "cell_type": "code",
   "execution_count": 11,
   "metadata": {
    "slideshow": {
     "slide_type": "fragment"
    },
    "tags": []
   },
   "outputs": [
    {
     "name": "stderr",
     "output_type": "stream",
     "text": [
      "/var/folders/nr/8kygzlbx7djc1yh15qnzhhgr0000gn/T/ipykernel_68505/2146501525.py:1: FutureWarning: The default value of numeric_only in DataFrameGroupBy.mean is deprecated. In a future version, numeric_only will default to False. Either specify numeric_only or select only columns which should be valid for the function.\n",
      "  test_result.groupby(['class', 'subject']).mean()\n"
     ]
    },
    {
     "data": {
      "text/html": [
       "<div>\n",
       "<style scoped>\n",
       "    .dataframe tbody tr th:only-of-type {\n",
       "        vertical-align: middle;\n",
       "    }\n",
       "\n",
       "    .dataframe tbody tr th {\n",
       "        vertical-align: top;\n",
       "    }\n",
       "\n",
       "    .dataframe thead th {\n",
       "        text-align: right;\n",
       "    }\n",
       "</style>\n",
       "<table border=\"1\" class=\"dataframe\">\n",
       "  <thead>\n",
       "    <tr style=\"text-align: right;\">\n",
       "      <th></th>\n",
       "      <th></th>\n",
       "      <th>score</th>\n",
       "    </tr>\n",
       "    <tr>\n",
       "      <th>class</th>\n",
       "      <th>subject</th>\n",
       "      <th></th>\n",
       "    </tr>\n",
       "  </thead>\n",
       "  <tbody>\n",
       "    <tr>\n",
       "      <th rowspan=\"2\" valign=\"top\">A</th>\n",
       "      <th>English</th>\n",
       "      <td>70.333333</td>\n",
       "    </tr>\n",
       "    <tr>\n",
       "      <th>math</th>\n",
       "      <td>70.666667</td>\n",
       "    </tr>\n",
       "    <tr>\n",
       "      <th rowspan=\"2\" valign=\"top\">B</th>\n",
       "      <th>English</th>\n",
       "      <td>70.000000</td>\n",
       "    </tr>\n",
       "    <tr>\n",
       "      <th>math</th>\n",
       "      <td>63.000000</td>\n",
       "    </tr>\n",
       "    <tr>\n",
       "      <th rowspan=\"2\" valign=\"top\">C</th>\n",
       "      <th>English</th>\n",
       "      <td>67.000000</td>\n",
       "    </tr>\n",
       "    <tr>\n",
       "      <th>math</th>\n",
       "      <td>50.666667</td>\n",
       "    </tr>\n",
       "  </tbody>\n",
       "</table>\n",
       "</div>"
      ],
      "text/plain": [
       "                   score\n",
       "class subject           \n",
       "A     English  70.333333\n",
       "      math     70.666667\n",
       "B     English  70.000000\n",
       "      math     63.000000\n",
       "C     English  67.000000\n",
       "      math     50.666667"
      ]
     },
     "execution_count": 11,
     "metadata": {},
     "output_type": "execute_result"
    }
   ],
   "source": [
    "test_result.groupby(['class', 'subject']).mean()"
   ]
  },
  {
   "cell_type": "markdown",
   "metadata": {
    "slideshow": {
     "slide_type": "skip"
    },
    "tags": []
   },
   "source": [
    "- 集約関数が複数ある場合\n",
    "- 平均だけでなく，最大点も表示したいときがある\n",
    "- その場合は`DataFrameGroupBy`オブジェクトの`agg()`メソッドを使うことによって実現できる"
   ]
  },
  {
   "cell_type": "code",
   "execution_count": 12,
   "metadata": {
    "slideshow": {
     "slide_type": "skip"
    },
    "tags": []
   },
   "outputs": [
    {
     "name": "stderr",
     "output_type": "stream",
     "text": [
      "/var/folders/nr/8kygzlbx7djc1yh15qnzhhgr0000gn/T/ipykernel_68505/3838957712.py:2: FutureWarning: ['name'] did not aggregate successfully. If any error is raised this will raise in a future version of pandas. Drop these columns/ops to avoid this warning.\n",
      "  grouped.agg(['mean', 'max'])\n"
     ]
    },
    {
     "data": {
      "text/html": [
       "<div>\n",
       "<style scoped>\n",
       "    .dataframe tbody tr th:only-of-type {\n",
       "        vertical-align: middle;\n",
       "    }\n",
       "\n",
       "    .dataframe tbody tr th {\n",
       "        vertical-align: top;\n",
       "    }\n",
       "\n",
       "    .dataframe thead tr th {\n",
       "        text-align: left;\n",
       "    }\n",
       "\n",
       "    .dataframe thead tr:last-of-type th {\n",
       "        text-align: right;\n",
       "    }\n",
       "</style>\n",
       "<table border=\"1\" class=\"dataframe\">\n",
       "  <thead>\n",
       "    <tr>\n",
       "      <th></th>\n",
       "      <th></th>\n",
       "      <th colspan=\"2\" halign=\"left\">score</th>\n",
       "    </tr>\n",
       "    <tr>\n",
       "      <th></th>\n",
       "      <th></th>\n",
       "      <th>mean</th>\n",
       "      <th>max</th>\n",
       "    </tr>\n",
       "    <tr>\n",
       "      <th>class</th>\n",
       "      <th>subject</th>\n",
       "      <th></th>\n",
       "      <th></th>\n",
       "    </tr>\n",
       "  </thead>\n",
       "  <tbody>\n",
       "    <tr>\n",
       "      <th rowspan=\"2\" valign=\"top\">A</th>\n",
       "      <th>English</th>\n",
       "      <td>70.333333</td>\n",
       "      <td>74</td>\n",
       "    </tr>\n",
       "    <tr>\n",
       "      <th>math</th>\n",
       "      <td>70.666667</td>\n",
       "      <td>96</td>\n",
       "    </tr>\n",
       "    <tr>\n",
       "      <th rowspan=\"2\" valign=\"top\">B</th>\n",
       "      <th>English</th>\n",
       "      <td>70.000000</td>\n",
       "      <td>76</td>\n",
       "    </tr>\n",
       "    <tr>\n",
       "      <th>math</th>\n",
       "      <td>63.000000</td>\n",
       "      <td>85</td>\n",
       "    </tr>\n",
       "    <tr>\n",
       "      <th rowspan=\"2\" valign=\"top\">C</th>\n",
       "      <th>English</th>\n",
       "      <td>67.000000</td>\n",
       "      <td>77</td>\n",
       "    </tr>\n",
       "    <tr>\n",
       "      <th>math</th>\n",
       "      <td>50.666667</td>\n",
       "      <td>56</td>\n",
       "    </tr>\n",
       "  </tbody>\n",
       "</table>\n",
       "</div>"
      ],
      "text/plain": [
       "                   score    \n",
       "                    mean max\n",
       "class subject               \n",
       "A     English  70.333333  74\n",
       "      math     70.666667  96\n",
       "B     English  70.000000  76\n",
       "      math     63.000000  85\n",
       "C     English  67.000000  77\n",
       "      math     50.666667  56"
      ]
     },
     "execution_count": 12,
     "metadata": {},
     "output_type": "execute_result"
    }
   ],
   "source": [
    "grouped = test_result.groupby(['class', 'subject'])\n",
    "grouped.agg(['mean', 'max'])"
   ]
  },
  {
   "cell_type": "markdown",
   "metadata": {
    "slideshow": {
     "slide_type": "slide"
    }
   },
   "source": [
    "## pandasの課題点\n",
    "<hr>\n",
    "\n",
    "- pandasはものすごく便利だけど\n",
    "- ビッグデータではメモリエラーが出る／処理が遅い\n",
    "- 文法がわかりにくい場合も"
   ]
  },
  {
   "cell_type": "markdown",
   "metadata": {
    "slideshow": {
     "slide_type": "slide"
    }
   },
   "source": [
    "## フリートーク（その２）\n",
    "\n",
    "<hr>\n",
    "\n",
    "- メモリエラーを起こさずにデータを扱うにはどんな方法があるか"
   ]
  },
  {
   "cell_type": "markdown",
   "metadata": {
    "slideshow": {
     "slide_type": "slide"
    }
   },
   "source": [
    "## pandasからApache Sparkへ\n",
    "<hr>\n",
    "\n",
    "- Apache Sparkを使えば，場合によってはpandasの100倍早く処理を行うことができる"
   ]
  },
  {
   "cell_type": "markdown",
   "metadata": {
    "slideshow": {
     "slide_type": "slide"
    },
    "tags": []
   },
   "source": [
    "# Apache Sparkについて"
   ]
  },
  {
   "cell_type": "markdown",
   "metadata": {
    "slideshow": {
     "slide_type": "slide"
    }
   },
   "source": [
    "## Apache Sparkの概要\n",
    "<hr>\n",
    "\n",
    "- 並列分散処理を行えるデータ処理ツール\n",
    "- 大規模データ分析を行う際に役立つ！"
   ]
  },
  {
   "cell_type": "markdown",
   "metadata": {
    "slideshow": {
     "slide_type": "slide"
    }
   },
   "source": [
    "## Apache Spark + Python = ?\n",
    "<hr>\n",
    "\n",
    "- PythonでApache Sparkがもし使えたら...\n",
    "- 学習しやすい，使いやすい！！\n",
    "- もちろんJupyter Lab（Notebook）で使える！"
   ]
  },
  {
   "cell_type": "markdown",
   "metadata": {
    "slideshow": {
     "slide_type": "slide"
    },
    "tags": []
   },
   "source": [
    "# PySparkについて"
   ]
  },
  {
   "cell_type": "markdown",
   "metadata": {
    "slideshow": {
     "slide_type": "slide"
    }
   },
   "source": [
    "## PySparkの概要\n",
    "<hr>\n",
    "\n",
    "- Sparkをpython上で実行するためのAPI\n",
    "- python以外にも実はsparkにはたくさんのAPIがあり，たくさんの言語に対応している．"
   ]
  },
  {
   "cell_type": "markdown",
   "metadata": {},
   "source": [
    "# PySparkでできること\n"
   ]
  },
  {
   "cell_type": "markdown",
   "metadata": {
    "slideshow": {
     "slide_type": "slide"
    }
   },
   "source": [
    "## PySparkとPandasの互換性\n",
    "<hr>\n",
    "\n",
    "- pandasのDFとPySparkのDFは相互に変換することができる\n",
    "- 実際のところは．pandasからPySparkの場合がほとんど\n",
    "- 逆の場合はメモリエラーに注意，\n",
    "- 以下のようにDFを変換することができる"
   ]
  },
  {
   "cell_type": "code",
   "execution_count": 13,
   "metadata": {
    "slideshow": {
     "slide_type": "fragment"
    }
   },
   "outputs": [
    {
     "name": "stdout",
     "output_type": "stream",
     "text": [
      "22/10/17 08:59:28 WARN Utils: Your hostname, TakatonoMacBook-Pro.local resolves to a loopback address: 127.0.0.1; using 192.168.3.7 instead (on interface en0)\n",
      "22/10/17 08:59:28 WARN Utils: Set SPARK_LOCAL_IP if you need to bind to another address\n"
     ]
    },
    {
     "name": "stderr",
     "output_type": "stream",
     "text": [
      "Setting default log level to \"WARN\".\n",
      "To adjust logging level use sc.setLogLevel(newLevel). For SparkR, use setLogLevel(newLevel).\n"
     ]
    },
    {
     "name": "stdout",
     "output_type": "stream",
     "text": [
      "22/10/17 08:59:29 WARN NativeCodeLoader: Unable to load native-hadoop library for your platform... using builtin-java classes where applicable\n"
     ]
    },
    {
     "name": "stderr",
     "output_type": "stream",
     "text": [
      "/Users/tueno/.pyenv/versions/3.10.6/envs/intro-pyspark/lib/python3.10/site-packages/pyspark/sql/pandas/conversion.py:474: FutureWarning: iteritems is deprecated and will be removed in a future version. Use .items instead.\n",
      "  for column, series in pdf.iteritems():\n",
      "/Users/tueno/.pyenv/versions/3.10.6/envs/intro-pyspark/lib/python3.10/site-packages/pyspark/sql/pandas/conversion.py:486: FutureWarning: iteritems is deprecated and will be removed in a future version. Use .items instead.\n",
      "  for column, series in pdf.iteritems():\n",
      "                                                                                \r"
     ]
    },
    {
     "name": "stdout",
     "output_type": "stream",
     "text": [
      "+-------+-----+-----+\n",
      "|student|class|score|\n",
      "+-------+-----+-----+\n",
      "|Larissa|    A|   50|\n",
      "| Jaylan|    B|   69|\n",
      "|  Golda|    A|   68|\n",
      "| Myriam|    A|   70|\n",
      "|Fabiola|    C|   82|\n",
      "|Abigail|    C|   57|\n",
      "|  Hardy|    B|   88|\n",
      "| Jeromy|    C|   93|\n",
      "+-------+-----+-----+\n",
      "\n"
     ]
    }
   ],
   "source": [
    "from pyspark.sql import SparkSession\n",
    "\n",
    "# pandasでつくったDFをSparkのDFへ変換\n",
    "spark = SparkSession.builder.getOrCreate()\n",
    "sdf = spark.createDataFrame(pdf)\n",
    "\n",
    "sdf.show()"
   ]
  },
  {
   "cell_type": "markdown",
   "metadata": {
    "slideshow": {
     "slide_type": "slide"
    }
   },
   "source": [
    "## 抽出\n",
    "<hr>\n",
    "\n",
    "- データからA組のテスト結果の点数と生徒の名前を抽出する\n",
    "- PySparkを使って書いた場合このようになる"
   ]
  },
  {
   "cell_type": "code",
   "execution_count": 14,
   "metadata": {
    "slideshow": {
     "slide_type": "fragment"
    }
   },
   "outputs": [
    {
     "name": "stdout",
     "output_type": "stream",
     "text": [
      "+-------+-----+\n",
      "|student|score|\n",
      "+-------+-----+\n",
      "|Larissa|   50|\n",
      "|  Golda|   68|\n",
      "| Myriam|   70|\n",
      "+-------+-----+\n",
      "\n"
     ]
    }
   ],
   "source": [
    "sdf.filter(sdf['class'] == 'A').select('student','score').show()"
   ]
  },
  {
   "cell_type": "code",
   "execution_count": 15,
   "metadata": {
    "slideshow": {
     "slide_type": "skip"
    }
   },
   "outputs": [
    {
     "name": "stdout",
     "output_type": "stream",
     "text": [
      "+-------+-----+\n",
      "|student|score|\n",
      "+-------+-----+\n",
      "|Larissa|   50|\n",
      "|  Golda|   68|\n",
      "| Myriam|   70|\n",
      "+-------+-----+\n",
      "\n"
     ]
    }
   ],
   "source": [
    "# dropを使って表示する列を指定するとき\n",
    "sdf.filter(sdf['class'] == 'A').drop('class').show()"
   ]
  },
  {
   "cell_type": "markdown",
   "metadata": {
    "slideshow": {
     "slide_type": "slide"
    }
   },
   "source": [
    "- pandasを使った場合とコードを比較する\n",
    "\n",
    "pandas\n",
    "```pandas\n",
    "pdf.loc[pdf['class'] == 'A', ['student', 'score']]b\n",
    "```\n",
    "PySpark\n",
    "```PySpark\n",
    "sdf.filter(sdf['class'] == 'A').select('student','score').show()\n",
    "```"
   ]
  },
  {
   "cell_type": "markdown",
   "metadata": {
    "slideshow": {
     "slide_type": "notes"
    }
   },
   "source": [
    "pandasではメソッドで角かっこを使っていて紛らわしい気もする"
   ]
  },
  {
   "cell_type": "markdown",
   "metadata": {
    "slideshow": {
     "slide_type": "slide"
    }
   },
   "source": [
    "## 複数の条件で抽出\n",
    "<hr>\n",
    "\n",
    "- 「C組のうち80点以上の生徒」で抽出する"
   ]
  },
  {
   "cell_type": "code",
   "execution_count": 16,
   "metadata": {
    "slideshow": {
     "slide_type": "fragment"
    }
   },
   "outputs": [
    {
     "name": "stdout",
     "output_type": "stream",
     "text": [
      "+-------+-----+-----+\n",
      "|student|class|score|\n",
      "+-------+-----+-----+\n",
      "|Fabiola|    C|   82|\n",
      "| Jeromy|    C|   93|\n",
      "+-------+-----+-----+\n",
      "\n"
     ]
    }
   ],
   "source": [
    "sdf.filter((sdf['class'] == 'C') & (sdf['score'] >= 80)).show()"
   ]
  },
  {
   "cell_type": "markdown",
   "metadata": {
    "slideshow": {
     "slide_type": "slide"
    }
   },
   "source": [
    "pandas\n",
    "```pandas\n",
    "pdf.loc[(pdf['class'] == 'C') & (pdf['score'] >= 80)]\n",
    "```\n",
    "PySpark\n",
    "```PySpark\n",
    "sdf.filter((sdf['class'] == 'C') & (sdf['score'] >= 80)).show()\n",
    "```"
   ]
  },
  {
   "cell_type": "markdown",
   "metadata": {
    "slideshow": {
     "slide_type": "slide"
    }
   },
   "source": [
    "## 結合\n",
    "<hr>\n",
    "\n",
    "- PySparkのDF変換した際`index`の情報が抜け落ちるので`student_id`として再定義する"
   ]
  },
  {
   "cell_type": "code",
   "execution_count": 17,
   "metadata": {
    "slideshow": {
     "slide_type": "fragment"
    }
   },
   "outputs": [],
   "source": [
    "student = pd.DataFrame({\n",
    "    'name': ['Larissa', 'Jaylan', 'Golda', 'Myriam', 'Fabiola', 'Abigail', 'Bernice', 'Hardy', 'Jeromy'],\n",
    "    'class': list('ABAACCBBC'),\n",
    "    'student_id': ['A1', 'B1', 'A2', 'A3', 'C1', 'C2', 'B2', 'B3', 'C4']\n",
    "})\n",
    "\n",
    "s_attendance = spark.createDataFrame(attendance)\n",
    "s_student = spark.createDataFrame(student)"
   ]
  },
  {
   "cell_type": "markdown",
   "metadata": {
    "slideshow": {
     "slide_type": "slide"
    }
   },
   "source": [
    "- `INNER JOIN`をPySparkにより実装すると以下のようになる"
   ]
  },
  {
   "cell_type": "code",
   "execution_count": 18,
   "metadata": {
    "slideshow": {
     "slide_type": "fragment"
    }
   },
   "outputs": [
    {
     "name": "stderr",
     "output_type": "stream",
     "text": [
      "[Stage 13:>                                                         (0 + 8) / 8]\r"
     ]
    },
    {
     "name": "stdout",
     "output_type": "stream",
     "text": [
      "+----------+--------+-------+-----+\n",
      "|student_id| subject|   name|class|\n",
      "+----------+--------+-------+-----+\n",
      "|        A1|    math|Larissa|    A|\n",
      "|        A1|    math|Larissa|    A|\n",
      "|        B1|    math| Jaylan|    B|\n",
      "|        B2| History|Bernice|    B|\n",
      "|        B3| History|  Hardy|    B|\n",
      "|        C1|Japanese|Fabiola|    C|\n",
      "|        C2| History|Abigail|    C|\n",
      "|        C2|    math|Abigail|    C|\n",
      "|        C4| English| Jeromy|    C|\n",
      "+----------+--------+-------+-----+\n",
      "\n"
     ]
    },
    {
     "name": "stderr",
     "output_type": "stream",
     "text": [
      "\r",
      "[Stage 16:>                                                         (0 + 1) / 1]\r",
      "\r",
      "                                                                                \r"
     ]
    }
   ],
   "source": [
    "s_attendance.join(s_student, 'student_id', 'inner').show()"
   ]
  },
  {
   "cell_type": "markdown",
   "metadata": {
    "slideshow": {
     "slide_type": "slide"
    }
   },
   "source": [
    "- 続いて`LEFT JOIN`をやってみる\n",
    "- `INNER JOIN`と同様に，`join`メソッドの引数で"
   ]
  },
  {
   "cell_type": "code",
   "execution_count": 19,
   "metadata": {
    "slideshow": {
     "slide_type": "fragment"
    }
   },
   "outputs": [
    {
     "name": "stderr",
     "output_type": "stream",
     "text": [
      "                                                                                \r"
     ]
    },
    {
     "name": "stdout",
     "output_type": "stream",
     "text": [
      "+----------+-------+-----+-------+\n",
      "|student_id|   name|class|subject|\n",
      "+----------+-------+-----+-------+\n",
      "|        B1| Jaylan|    B|   null|\n",
      "|        B2|Bernice|    B|History|\n",
      "|        B3|  Hardy|    B|History|\n",
      "+----------+-------+-----+-------+\n",
      "\n"
     ]
    }
   ],
   "source": [
    "# LEFTJOIN\n",
    "sb_student = s_student.filter(s_student['class'] == 'B')\n",
    "shistory_attendance = s_attendance.filter(s_attendance['subject'] == 'History')\n",
    "# indexを使っていないため，結合の指定がしやすい（のかも）\n",
    "sb_student.join(shistory_attendance, \"student_id\", \"left\").show()"
   ]
  },
  {
   "cell_type": "markdown",
   "metadata": {
    "slideshow": {
     "slide_type": "slide"
    }
   },
   "source": [
    "## 集約（GROUP BY）\n",
    "<hr>\n",
    "\n",
    "- まずはDFの変換をする"
   ]
  },
  {
   "cell_type": "code",
   "execution_count": 20,
   "metadata": {
    "slideshow": {
     "slide_type": "fragment"
    }
   },
   "outputs": [],
   "source": [
    "s_test_result = spark.createDataFrame(test_result)"
   ]
  },
  {
   "cell_type": "markdown",
   "metadata": {
    "slideshow": {
     "slide_type": "slide"
    }
   },
   "source": [
    "- pandasの場合と同様に「クラスごと，教科ごとの平均点」を求めてみる"
   ]
  },
  {
   "cell_type": "code",
   "execution_count": 21,
   "metadata": {
    "slideshow": {
     "slide_type": "fragment"
    }
   },
   "outputs": [
    {
     "name": "stderr",
     "output_type": "stream",
     "text": [
      "\r",
      "[Stage 23:>                                                         (0 + 8) / 8]\r"
     ]
    },
    {
     "name": "stdout",
     "output_type": "stream",
     "text": [
      "+-----+-------+------------------+\n",
      "|class|subject|        avg(score)|\n",
      "+-----+-------+------------------+\n",
      "|    A|   math| 70.66666666666667|\n",
      "|    A|English| 70.33333333333333|\n",
      "|    B|   math|              63.0|\n",
      "|    B|English|              70.0|\n",
      "|    C|English|              67.0|\n",
      "|    C|   math|50.666666666666664|\n",
      "+-----+-------+------------------+\n",
      "\n"
     ]
    },
    {
     "name": "stderr",
     "output_type": "stream",
     "text": [
      "\r",
      "                                                                                \r"
     ]
    }
   ],
   "source": [
    "s_test_result.groupBy('class','subject').mean().show()"
   ]
  },
  {
   "cell_type": "markdown",
   "metadata": {
    "slideshow": {
     "slide_type": "slide"
    }
   },
   "source": [
    "- 集約関数が複数存在する場合\n",
    "- `agg()`メソッドを使って表現，計算のために`pyspark.sql.functions`ライブラリをインポートしている"
   ]
  },
  {
   "cell_type": "code",
   "execution_count": 22,
   "metadata": {
    "slideshow": {
     "slide_type": "fragment"
    },
    "tags": []
   },
   "outputs": [
    {
     "name": "stderr",
     "output_type": "stream",
     "text": [
      "\r",
      "[Stage 26:>                                                         (0 + 8) / 8]\r"
     ]
    },
    {
     "name": "stdout",
     "output_type": "stream",
     "text": [
      "+-----+-------+------------------+----------+\n",
      "|class|subject|        avg(score)|max(score)|\n",
      "+-----+-------+------------------+----------+\n",
      "|    A|   math| 70.66666666666667|        96|\n",
      "|    A|English| 70.33333333333333|        74|\n",
      "|    B|   math|              63.0|        85|\n",
      "|    B|English|              70.0|        76|\n",
      "|    C|English|              67.0|        77|\n",
      "|    C|   math|50.666666666666664|        56|\n",
      "+-----+-------+------------------+----------+\n",
      "\n"
     ]
    },
    {
     "name": "stderr",
     "output_type": "stream",
     "text": [
      "\r",
      "                                                                                \r"
     ]
    }
   ],
   "source": [
    "import pyspark.sql.functions as F\n",
    "\n",
    "s_test_result.groupBy('class','subject').agg(F.avg('score'), F.max('score')).show()"
   ]
  },
  {
   "cell_type": "markdown",
   "metadata": {
    "slideshow": {
     "slide_type": "slide"
    }
   },
   "source": [
    "## SparkSQLについて\n",
    "<hr>\n",
    "\n",
    "- PySparkはPandasよりもSQLに近い形で書くことができて便利\n",
    "- SQL文によって操作することもできる"
   ]
  },
  {
   "cell_type": "markdown",
   "metadata": {
    "slideshow": {
     "slide_type": "slide"
    }
   },
   "source": [
    "- 先ほど行ったPySparkでの抽出をSQLで行う[8]"
   ]
  },
  {
   "cell_type": "code",
   "execution_count": 23,
   "metadata": {
    "slideshow": {
     "slide_type": "fragment"
    }
   },
   "outputs": [
    {
     "name": "stdout",
     "output_type": "stream",
     "text": [
      "+-------+-----+\n",
      "|student|score|\n",
      "+-------+-----+\n",
      "|Larissa|   50|\n",
      "|  Golda|   68|\n",
      "| Myriam|   70|\n",
      "+-------+-----+\n",
      "\n"
     ]
    }
   ],
   "source": [
    "# SparkSQLで操作するテーブルを登録\n",
    "sdf.createOrReplaceTempView('test_result')\n",
    "\n",
    "# SQLによる操作\n",
    "query = '''\n",
    "SELECT student, score\n",
    "        FROM test_result\n",
    "        WHERE class == 'A'\n",
    "'''\n",
    "\n",
    "spark.sql(query).show()"
   ]
  },
  {
   "cell_type": "markdown",
   "metadata": {
    "slideshow": {
     "slide_type": "notes"
    }
   },
   "source": [
    "SQLに習熟している人はPySparkのメソッドを覚えなくても良い気がする"
   ]
  },
  {
   "cell_type": "markdown",
   "metadata": {
    "slideshow": {
     "slide_type": "slide"
    },
    "tags": []
   },
   "source": [
    "# PandasとPysparkの比較"
   ]
  },
  {
   "cell_type": "markdown",
   "metadata": {},
   "source": [
    "## 乱数によるデータセット作成\n",
    "- 乱数によってデータを生成[9]する\n",
    "- データサイズはおよそ8MB"
   ]
  },
  {
   "cell_type": "code",
   "execution_count": 59,
   "metadata": {},
   "outputs": [
    {
     "data": {
      "text/plain": [
       "8000128"
      ]
     },
     "execution_count": 59,
     "metadata": {},
     "output_type": "execute_result"
    }
   ],
   "source": [
    "np.random.seed(seed=42)\n",
    "r_pdf = pd.DataFrame(np.random.rand(1000,1000))\n",
    "\n",
    "#Byte単位でデータサイズを表示\n",
    "r_pdf.memory_usage().sum()"
   ]
  },
  {
   "cell_type": "code",
   "execution_count": 66,
   "metadata": {},
   "outputs": [],
   "source": [
    "from pyspark import SparkContext\n",
    "\n",
    "sc = SparkContext.getOrCreate()\n",
    "\n",
    "rand = np.random.rand(1000,1000)\n",
    "\n",
    "rdd1 = sc.parallelize(rand)\n",
    "rdd2 = rdd1.map(lambda x : [int(i) for i in x])\n",
    "r_sdf = rdd2.toDF()"
   ]
  },
  {
   "cell_type": "code",
   "execution_count": 41,
   "metadata": {},
   "outputs": [
    {
     "name": "stdout",
     "output_type": "stream",
     "text": [
      "0.020777375000761822\n"
     ]
    }
   ],
   "source": [
    "import time\n",
    "\n",
    "start = time.perf_counter() \n",
    "for i in range(10):\n",
    "    r_pdf.sort_values([i])\n",
    "\n",
    "print(time.perf_counter() - start)\n",
    "ptime = time.perf_counter() - start"
   ]
  },
  {
   "cell_type": "code",
   "execution_count": 67,
   "metadata": {},
   "outputs": [
    {
     "name": "stdout",
     "output_type": "stream",
     "text": [
      "22/10/17 09:27:21 WARN package: Truncated the string representation of a plan since it was too large. This behavior can be adjusted by setting 'spark.sql.debug.maxToStringFields'.\n"
     ]
    },
    {
     "ename": "AnalysisException",
     "evalue": "Column '`0`' does not exist. Did you mean one of the following? [_1, _10, _100, _101, _102, _103, _104, _105, _106, _107, _108, _109, _11, _12, _13, _14, _15, _16, _17, _18, _19, _2, _20, _200, _201, _202, _203, _204, _205, _206, _207, _208, _209, _21, _22, _23, _24, _25, _26, _27, _28, _29, _3, _30, _300, _301, _302, _303, _304, _305, _306, _307, _308, _309, _31, _32, _33, _34, _35, _36, _37, _38, _39, _4, _40, _400, _401, _402, _403, _404, _405, _406, _407, _408, _409, _41, _42, _43, _44, _45, _46, _47, _48, _49, _5, _50, _500, _501, _502, _503, _504, _505, _506, _507, _508, _509, _51, _52, _53, _54, _55, _56, _57, _58, _59, _6, _60, _600, _601, _602, _603, _604, _605, _606, _607, _608, _609, _61, _62, _63, _64, _65, _66, _67, _68, _69, _7, _70, _700, _701, _702, _703, _704, _705, _706, _707, _708, _709, _71, _72, _73, _74, _75, _76, _77, _78, _79, _8, _80, _800, _801, _802, _803, _804, _805, _806, _807, _808, _809, _81, _82, _83, _84, _85, _86, _87, _88, _89, _9, _90, _900, _901, _902, _903, _904, _905, _906, _907, _908, _909, _91, _92, _93, _94, _95, _96, _97, _98, _99, _1000, _110, _111, _112, _113, _114, _115, _116, _117, _118, _119, _120, _121, _122, _123, _124, _125, _126, _127, _128, _129, _130, _131, _132, _133, _134, _135, _136, _137, _138, _139, _140, _141, _142, _143, _144, _145, _146, _147, _148, _149, _150, _151, _152, _153, _154, _155, _156, _157, _158, _159, _160, _161, _162, _163, _164, _165, _166, _167, _168, _169, _170, _171, _172, _173, _174, _175, _176, _177, _178, _179, _180, _181, _182, _183, _184, _185, _186, _187, _188, _189, _190, _191, _192, _193, _194, _195, _196, _197, _198, _199, _210, _211, _212, _213, _214, _215, _216, _217, _218, _219, _220, _221, _222, _223, _224, _225, _226, _227, _228, _229, _230, _231, _232, _233, _234, _235, _236, _237, _238, _239, _240, _241, _242, _243, _244, _245, _246, _247, _248, _249, _250, _251, _252, _253, _254, _255, _256, _257, _258, _259, _260, _261, _262, _263, _264, _265, _266, _267, _268, _269, _270, _271, _272, _273, _274, _275, _276, _277, _278, _279, _280, _281, _282, _283, _284, _285, _286, _287, _288, _289, _290, _291, _292, _293, _294, _295, _296, _297, _298, _299, _310, _311, _312, _313, _314, _315, _316, _317, _318, _319, _320, _321, _322, _323, _324, _325, _326, _327, _328, _329, _330, _331, _332, _333, _334, _335, _336, _337, _338, _339, _340, _341, _342, _343, _344, _345, _346, _347, _348, _349, _350, _351, _352, _353, _354, _355, _356, _357, _358, _359, _360, _361, _362, _363, _364, _365, _366, _367, _368, _369, _370, _371, _372, _373, _374, _375, _376, _377, _378, _379, _380, _381, _382, _383, _384, _385, _386, _387, _388, _389, _390, _391, _392, _393, _394, _395, _396, _397, _398, _399, _410, _411, _412, _413, _414, _415, _416, _417, _418, _419, _420, _421, _422, _423, _424, _425, _426, _427, _428, _429, _430, _431, _432, _433, _434, _435, _436, _437, _438, _439, _440, _441, _442, _443, _444, _445, _446, _447, _448, _449, _450, _451, _452, _453, _454, _455, _456, _457, _458, _459, _460, _461, _462, _463, _464, _465, _466, _467, _468, _469, _470, _471, _472, _473, _474, _475, _476, _477, _478, _479, _480, _481, _482, _483, _484, _485, _486, _487, _488, _489, _490, _491, _492, _493, _494, _495, _496, _497, _498, _499, _510, _511, _512, _513, _514, _515, _516, _517, _518, _519, _520, _521, _522, _523, _524, _525, _526, _527, _528, _529, _530, _531, _532, _533, _534, _535, _536, _537, _538, _539, _540, _541, _542, _543, _544, _545, _546, _547, _548, _549, _550, _551, _552, _553, _554, _555, _556, _557, _558, _559, _560, _561, _562, _563, _564, _565, _566, _567, _568, _569, _570, _571, _572, _573, _574, _575, _576, _577, _578, _579, _580, _581, _582, _583, _584, _585, _586, _587, _588, _589, _590, _591, _592, _593, _594, _595, _596, _597, _598, _599, _610, _611, _612, _613, _614, _615, _616, _617, _618, _619, _620, _621, _622, _623, _624, _625, _626, _627, _628, _629, _630, _631, _632, _633, _634, _635, _636, _637, _638, _639, _640, _641, _642, _643, _644, _645, _646, _647, _648, _649, _650, _651, _652, _653, _654, _655, _656, _657, _658, _659, _660, _661, _662, _663, _664, _665, _666, _667, _668, _669, _670, _671, _672, _673, _674, _675, _676, _677, _678, _679, _680, _681, _682, _683, _684, _685, _686, _687, _688, _689, _690, _691, _692, _693, _694, _695, _696, _697, _698, _699, _710, _711, _712, _713, _714, _715, _716, _717, _718, _719, _720, _721, _722, _723, _724, _725, _726, _727, _728, _729, _730, _731, _732, _733, _734, _735, _736, _737, _738, _739, _740, _741, _742, _743, _744, _745, _746, _747, _748, _749, _750, _751, _752, _753, _754, _755, _756, _757, _758, _759, _760, _761, _762, _763, _764, _765, _766, _767, _768, _769, _770, _771, _772, _773, _774, _775, _776, _777, _778, _779, _780, _781, _782, _783, _784, _785, _786, _787, _788, _789, _790, _791, _792, _793, _794, _795, _796, _797, _798, _799, _810, _811, _812, _813, _814, _815, _816, _817, _818, _819, _820, _821, _822, _823, _824, _825, _826, _827, _828, _829, _830, _831, _832, _833, _834, _835, _836, _837, _838, _839, _840, _841, _842, _843, _844, _845, _846, _847, _848, _849, _850, _851, _852, _853, _854, _855, _856, _857, _858, _859, _860, _861, _862, _863, _864, _865, _866, _867, _868, _869, _870, _871, _872, _873, _874, _875, _876, _877, _878, _879, _880, _881, _882, _883, _884, _885, _886, _887, _888, _889, _890, _891, _892, _893, _894, _895, _896, _897, _898, _899, _910, _911, _912, _913, _914, _915, _916, _917, _918, _919, _920, _921, _922, _923, _924, _925, _926, _927, _928, _929, _930, _931, _932, _933, _934, _935, _936, _937, _938, _939, _940, _941, _942, _943, _944, _945, _946, _947, _948, _949, _950, _951, _952, _953, _954, _955, _956, _957, _958, _959, _960, _961, _962, _963, _964, _965, _966, _967, _968, _969, _970, _971, _972, _973, _974, _975, _976, _977, _978, _979, _980, _981, _982, _983, _984, _985, _986, _987, _988, _989, _990, _991, _992, _993, _994, _995, _996, _997, _998, _999];\n'Sort ['0 ASC NULLS FIRST], true\n+- LogicalRDD [_1#2191L, _2#2192L, _3#2193L, _4#2194L, _5#2195L, _6#2196L, _7#2197L, _8#2198L, _9#2199L, _10#2200L, _11#2201L, _12#2202L, _13#2203L, _14#2204L, _15#2205L, _16#2206L, _17#2207L, _18#2208L, _19#2209L, _20#2210L, _21#2211L, _22#2212L, _23#2213L, _24#2214L, ... 976 more fields], false\n",
     "output_type": "error",
     "traceback": [
      "\u001b[0;31m---------------------------------------------------------------------------\u001b[0m",
      "\u001b[0;31mAnalysisException\u001b[0m                         Traceback (most recent call last)",
      "Cell \u001b[0;32mIn [67], line 6\u001b[0m\n\u001b[1;32m      3\u001b[0m start \u001b[38;5;241m=\u001b[39m time\u001b[38;5;241m.\u001b[39mperf_counter()\n\u001b[1;32m      5\u001b[0m \u001b[38;5;28;01mfor\u001b[39;00m i \u001b[38;5;129;01min\u001b[39;00m \u001b[38;5;28mrange\u001b[39m(\u001b[38;5;241m10\u001b[39m):\n\u001b[0;32m----> 6\u001b[0m     \u001b[43mr_sdf\u001b[49m\u001b[38;5;241;43m.\u001b[39;49m\u001b[43msort\u001b[49m\u001b[43m(\u001b[49m\u001b[38;5;28;43mstr\u001b[39;49m\u001b[43m(\u001b[49m\u001b[43mi\u001b[49m\u001b[43m)\u001b[49m\u001b[43m)\u001b[49m\n\u001b[1;32m      8\u001b[0m \u001b[38;5;28mprint\u001b[39m(time\u001b[38;5;241m.\u001b[39mperf_counter() \u001b[38;5;241m-\u001b[39m start)\n\u001b[1;32m      9\u001b[0m stime \u001b[38;5;241m=\u001b[39m time\u001b[38;5;241m.\u001b[39mperf_counter() \u001b[38;5;241m-\u001b[39m start\n",
      "File \u001b[0;32m~/.pyenv/versions/3.10.6/envs/intro-pyspark/lib/python3.10/site-packages/pyspark/sql/dataframe.py:1730\u001b[0m, in \u001b[0;36mDataFrame.sort\u001b[0;34m(self, *cols, **kwargs)\u001b[0m\n\u001b[1;32m   1695\u001b[0m \u001b[38;5;28;01mdef\u001b[39;00m \u001b[38;5;21msort\u001b[39m(\n\u001b[1;32m   1696\u001b[0m     \u001b[38;5;28mself\u001b[39m, \u001b[38;5;241m*\u001b[39mcols: Union[\u001b[38;5;28mstr\u001b[39m, Column, List[Union[\u001b[38;5;28mstr\u001b[39m, Column]]], \u001b[38;5;241m*\u001b[39m\u001b[38;5;241m*\u001b[39mkwargs: Any\n\u001b[1;32m   1697\u001b[0m ) \u001b[38;5;241m-\u001b[39m\u001b[38;5;241m>\u001b[39m \u001b[38;5;124m\"\u001b[39m\u001b[38;5;124mDataFrame\u001b[39m\u001b[38;5;124m\"\u001b[39m:\n\u001b[1;32m   1698\u001b[0m     \u001b[38;5;124;03m\"\"\"Returns a new :class:`DataFrame` sorted by the specified column(s).\u001b[39;00m\n\u001b[1;32m   1699\u001b[0m \n\u001b[1;32m   1700\u001b[0m \u001b[38;5;124;03m    .. versionadded:: 1.3.0\u001b[39;00m\n\u001b[0;32m   (...)\u001b[0m\n\u001b[1;32m   1728\u001b[0m \u001b[38;5;124;03m    [Row(age=5, name='Bob'), Row(age=2, name='Alice')]\u001b[39;00m\n\u001b[1;32m   1729\u001b[0m \u001b[38;5;124;03m    \"\"\"\u001b[39;00m\n\u001b[0;32m-> 1730\u001b[0m     jdf \u001b[38;5;241m=\u001b[39m \u001b[38;5;28;43mself\u001b[39;49m\u001b[38;5;241;43m.\u001b[39;49m\u001b[43m_jdf\u001b[49m\u001b[38;5;241;43m.\u001b[39;49m\u001b[43msort\u001b[49m\u001b[43m(\u001b[49m\u001b[38;5;28;43mself\u001b[39;49m\u001b[38;5;241;43m.\u001b[39;49m\u001b[43m_sort_cols\u001b[49m\u001b[43m(\u001b[49m\u001b[43mcols\u001b[49m\u001b[43m,\u001b[49m\u001b[43m \u001b[49m\u001b[43mkwargs\u001b[49m\u001b[43m)\u001b[49m\u001b[43m)\u001b[49m\n\u001b[1;32m   1731\u001b[0m     \u001b[38;5;28;01mreturn\u001b[39;00m DataFrame(jdf, \u001b[38;5;28mself\u001b[39m\u001b[38;5;241m.\u001b[39msparkSession)\n",
      "File \u001b[0;32m~/.pyenv/versions/3.10.6/envs/intro-pyspark/lib/python3.10/site-packages/py4j/java_gateway.py:1321\u001b[0m, in \u001b[0;36mJavaMember.__call__\u001b[0;34m(self, *args)\u001b[0m\n\u001b[1;32m   1315\u001b[0m command \u001b[38;5;241m=\u001b[39m proto\u001b[38;5;241m.\u001b[39mCALL_COMMAND_NAME \u001b[38;5;241m+\u001b[39m\\\n\u001b[1;32m   1316\u001b[0m     \u001b[38;5;28mself\u001b[39m\u001b[38;5;241m.\u001b[39mcommand_header \u001b[38;5;241m+\u001b[39m\\\n\u001b[1;32m   1317\u001b[0m     args_command \u001b[38;5;241m+\u001b[39m\\\n\u001b[1;32m   1318\u001b[0m     proto\u001b[38;5;241m.\u001b[39mEND_COMMAND_PART\n\u001b[1;32m   1320\u001b[0m answer \u001b[38;5;241m=\u001b[39m \u001b[38;5;28mself\u001b[39m\u001b[38;5;241m.\u001b[39mgateway_client\u001b[38;5;241m.\u001b[39msend_command(command)\n\u001b[0;32m-> 1321\u001b[0m return_value \u001b[38;5;241m=\u001b[39m \u001b[43mget_return_value\u001b[49m\u001b[43m(\u001b[49m\n\u001b[1;32m   1322\u001b[0m \u001b[43m    \u001b[49m\u001b[43manswer\u001b[49m\u001b[43m,\u001b[49m\u001b[43m \u001b[49m\u001b[38;5;28;43mself\u001b[39;49m\u001b[38;5;241;43m.\u001b[39;49m\u001b[43mgateway_client\u001b[49m\u001b[43m,\u001b[49m\u001b[43m \u001b[49m\u001b[38;5;28;43mself\u001b[39;49m\u001b[38;5;241;43m.\u001b[39;49m\u001b[43mtarget_id\u001b[49m\u001b[43m,\u001b[49m\u001b[43m \u001b[49m\u001b[38;5;28;43mself\u001b[39;49m\u001b[38;5;241;43m.\u001b[39;49m\u001b[43mname\u001b[49m\u001b[43m)\u001b[49m\n\u001b[1;32m   1324\u001b[0m \u001b[38;5;28;01mfor\u001b[39;00m temp_arg \u001b[38;5;129;01min\u001b[39;00m temp_args:\n\u001b[1;32m   1325\u001b[0m     temp_arg\u001b[38;5;241m.\u001b[39m_detach()\n",
      "File \u001b[0;32m~/.pyenv/versions/3.10.6/envs/intro-pyspark/lib/python3.10/site-packages/pyspark/sql/utils.py:196\u001b[0m, in \u001b[0;36mcapture_sql_exception.<locals>.deco\u001b[0;34m(*a, **kw)\u001b[0m\n\u001b[1;32m    192\u001b[0m converted \u001b[38;5;241m=\u001b[39m convert_exception(e\u001b[38;5;241m.\u001b[39mjava_exception)\n\u001b[1;32m    193\u001b[0m \u001b[38;5;28;01mif\u001b[39;00m \u001b[38;5;129;01mnot\u001b[39;00m \u001b[38;5;28misinstance\u001b[39m(converted, UnknownException):\n\u001b[1;32m    194\u001b[0m     \u001b[38;5;66;03m# Hide where the exception came from that shows a non-Pythonic\u001b[39;00m\n\u001b[1;32m    195\u001b[0m     \u001b[38;5;66;03m# JVM exception message.\u001b[39;00m\n\u001b[0;32m--> 196\u001b[0m     \u001b[38;5;28;01mraise\u001b[39;00m converted \u001b[38;5;28;01mfrom\u001b[39;00m \u001b[38;5;28mNone\u001b[39m\n\u001b[1;32m    197\u001b[0m \u001b[38;5;28;01melse\u001b[39;00m:\n\u001b[1;32m    198\u001b[0m     \u001b[38;5;28;01mraise\u001b[39;00m\n",
      "\u001b[0;31mAnalysisException\u001b[0m: Column '`0`' does not exist. Did you mean one of the following? [_1, _10, _100, _101, _102, _103, _104, _105, _106, _107, _108, _109, _11, _12, _13, _14, _15, _16, _17, _18, _19, _2, _20, _200, _201, _202, _203, _204, _205, _206, _207, _208, _209, _21, _22, _23, _24, _25, _26, _27, _28, _29, _3, _30, _300, _301, _302, _303, _304, _305, _306, _307, _308, _309, _31, _32, _33, _34, _35, _36, _37, _38, _39, _4, _40, _400, _401, _402, _403, _404, _405, _406, _407, _408, _409, _41, _42, _43, _44, _45, _46, _47, _48, _49, _5, _50, _500, _501, _502, _503, _504, _505, _506, _507, _508, _509, _51, _52, _53, _54, _55, _56, _57, _58, _59, _6, _60, _600, _601, _602, _603, _604, _605, _606, _607, _608, _609, _61, _62, _63, _64, _65, _66, _67, _68, _69, _7, _70, _700, _701, _702, _703, _704, _705, _706, _707, _708, _709, _71, _72, _73, _74, _75, _76, _77, _78, _79, _8, _80, _800, _801, _802, _803, _804, _805, _806, _807, _808, _809, _81, _82, _83, _84, _85, _86, _87, _88, _89, _9, _90, _900, _901, _902, _903, _904, _905, _906, _907, _908, _909, _91, _92, _93, _94, _95, _96, _97, _98, _99, _1000, _110, _111, _112, _113, _114, _115, _116, _117, _118, _119, _120, _121, _122, _123, _124, _125, _126, _127, _128, _129, _130, _131, _132, _133, _134, _135, _136, _137, _138, _139, _140, _141, _142, _143, _144, _145, _146, _147, _148, _149, _150, _151, _152, _153, _154, _155, _156, _157, _158, _159, _160, _161, _162, _163, _164, _165, _166, _167, _168, _169, _170, _171, _172, _173, _174, _175, _176, _177, _178, _179, _180, _181, _182, _183, _184, _185, _186, _187, _188, _189, _190, _191, _192, _193, _194, _195, _196, _197, _198, _199, _210, _211, _212, _213, _214, _215, _216, _217, _218, _219, _220, _221, _222, _223, _224, _225, _226, _227, _228, _229, _230, _231, _232, _233, _234, _235, _236, _237, _238, _239, _240, _241, _242, _243, _244, _245, _246, _247, _248, _249, _250, _251, _252, _253, _254, _255, _256, _257, _258, _259, _260, _261, _262, _263, _264, _265, _266, _267, _268, _269, _270, _271, _272, _273, _274, _275, _276, _277, _278, _279, _280, _281, _282, _283, _284, _285, _286, _287, _288, _289, _290, _291, _292, _293, _294, _295, _296, _297, _298, _299, _310, _311, _312, _313, _314, _315, _316, _317, _318, _319, _320, _321, _322, _323, _324, _325, _326, _327, _328, _329, _330, _331, _332, _333, _334, _335, _336, _337, _338, _339, _340, _341, _342, _343, _344, _345, _346, _347, _348, _349, _350, _351, _352, _353, _354, _355, _356, _357, _358, _359, _360, _361, _362, _363, _364, _365, _366, _367, _368, _369, _370, _371, _372, _373, _374, _375, _376, _377, _378, _379, _380, _381, _382, _383, _384, _385, _386, _387, _388, _389, _390, _391, _392, _393, _394, _395, _396, _397, _398, _399, _410, _411, _412, _413, _414, _415, _416, _417, _418, _419, _420, _421, _422, _423, _424, _425, _426, _427, _428, _429, _430, _431, _432, _433, _434, _435, _436, _437, _438, _439, _440, _441, _442, _443, _444, _445, _446, _447, _448, _449, _450, _451, _452, _453, _454, _455, _456, _457, _458, _459, _460, _461, _462, _463, _464, _465, _466, _467, _468, _469, _470, _471, _472, _473, _474, _475, _476, _477, _478, _479, _480, _481, _482, _483, _484, _485, _486, _487, _488, _489, _490, _491, _492, _493, _494, _495, _496, _497, _498, _499, _510, _511, _512, _513, _514, _515, _516, _517, _518, _519, _520, _521, _522, _523, _524, _525, _526, _527, _528, _529, _530, _531, _532, _533, _534, _535, _536, _537, _538, _539, _540, _541, _542, _543, _544, _545, _546, _547, _548, _549, _550, _551, _552, _553, _554, _555, _556, _557, _558, _559, _560, _561, _562, _563, _564, _565, _566, _567, _568, _569, _570, _571, _572, _573, _574, _575, _576, _577, _578, _579, _580, _581, _582, _583, _584, _585, _586, _587, _588, _589, _590, _591, _592, _593, _594, _595, _596, _597, _598, _599, _610, _611, _612, _613, _614, _615, _616, _617, _618, _619, _620, _621, _622, _623, _624, _625, _626, _627, _628, _629, _630, _631, _632, _633, _634, _635, _636, _637, _638, _639, _640, _641, _642, _643, _644, _645, _646, _647, _648, _649, _650, _651, _652, _653, _654, _655, _656, _657, _658, _659, _660, _661, _662, _663, _664, _665, _666, _667, _668, _669, _670, _671, _672, _673, _674, _675, _676, _677, _678, _679, _680, _681, _682, _683, _684, _685, _686, _687, _688, _689, _690, _691, _692, _693, _694, _695, _696, _697, _698, _699, _710, _711, _712, _713, _714, _715, _716, _717, _718, _719, _720, _721, _722, _723, _724, _725, _726, _727, _728, _729, _730, _731, _732, _733, _734, _735, _736, _737, _738, _739, _740, _741, _742, _743, _744, _745, _746, _747, _748, _749, _750, _751, _752, _753, _754, _755, _756, _757, _758, _759, _760, _761, _762, _763, _764, _765, _766, _767, _768, _769, _770, _771, _772, _773, _774, _775, _776, _777, _778, _779, _780, _781, _782, _783, _784, _785, _786, _787, _788, _789, _790, _791, _792, _793, _794, _795, _796, _797, _798, _799, _810, _811, _812, _813, _814, _815, _816, _817, _818, _819, _820, _821, _822, _823, _824, _825, _826, _827, _828, _829, _830, _831, _832, _833, _834, _835, _836, _837, _838, _839, _840, _841, _842, _843, _844, _845, _846, _847, _848, _849, _850, _851, _852, _853, _854, _855, _856, _857, _858, _859, _860, _861, _862, _863, _864, _865, _866, _867, _868, _869, _870, _871, _872, _873, _874, _875, _876, _877, _878, _879, _880, _881, _882, _883, _884, _885, _886, _887, _888, _889, _890, _891, _892, _893, _894, _895, _896, _897, _898, _899, _910, _911, _912, _913, _914, _915, _916, _917, _918, _919, _920, _921, _922, _923, _924, _925, _926, _927, _928, _929, _930, _931, _932, _933, _934, _935, _936, _937, _938, _939, _940, _941, _942, _943, _944, _945, _946, _947, _948, _949, _950, _951, _952, _953, _954, _955, _956, _957, _958, _959, _960, _961, _962, _963, _964, _965, _966, _967, _968, _969, _970, _971, _972, _973, _974, _975, _976, _977, _978, _979, _980, _981, _982, _983, _984, _985, _986, _987, _988, _989, _990, _991, _992, _993, _994, _995, _996, _997, _998, _999];\n'Sort ['0 ASC NULLS FIRST], true\n+- LogicalRDD [_1#2191L, _2#2192L, _3#2193L, _4#2194L, _5#2195L, _6#2196L, _7#2197L, _8#2198L, _9#2199L, _10#2200L, _11#2201L, _12#2202L, _13#2203L, _14#2204L, _15#2205L, _16#2206L, _17#2207L, _18#2208L, _19#2209L, _20#2210L, _21#2211L, _22#2212L, _23#2213L, _24#2214L, ... 976 more fields], false\n"
     ]
    }
   ],
   "source": [
    "import time\n",
    "\n",
    "start = time.perf_counter()\n",
    "\n",
    "for i in range(10):\n",
    "    r_sdf.sort(str(i))\n",
    "\n",
    "print(time.perf_counter() - start)\n",
    "stime = time.perf_counter() - start"
   ]
  },
  {
   "cell_type": "markdown",
   "metadata": {},
   "source": [
    "- PySparkとpandasそれぞれの場合について実行時間を比較すると"
   ]
  },
  {
   "cell_type": "code",
   "execution_count": null,
   "metadata": {},
   "outputs": [],
   "source": [
    "print(ptime/stime)"
   ]
  },
  {
   "cell_type": "markdown",
   "metadata": {},
   "source": [
    "## フリートーク（その3）\n",
    "<hr>\n",
    "\n",
    "質問  \n",
    "このスライドに追記するかも"
   ]
  },
  {
   "cell_type": "markdown",
   "metadata": {
    "jp-MarkdownHeadingCollapsed": true,
    "slideshow": {
     "slide_type": "slide"
    },
    "tags": []
   },
   "source": [
    "# 参考\n",
    "<hr>\n",
    "\n",
    "### スライド中の参考文献\n",
    "[1] https://bookclub.kodansha.co.jp/product?item=0000275420  \n",
    "[2] https://docs.python.org/ja/3/  \n",
    "[3] https://pandas.pydata.org/docs/  \n",
    "[4] https://pandas.pydata.org/docs/user_guide/10min.html  \n",
    "[5] https://sparkbyexamples.com/pyspark/pandas-vs-pyspark-dataframe-with-examples/amp/  \n",
    "[6] https://www.ohitori.fun/entry/basic-data-analysis-in-pandas  \n",
    "[7] https://qiita.com/driller/items/ef8a16be03e146ce2183  \n",
    "[8] https://blog.serverworks.co.jp/introducing-pyspark-6  \n",
    "[9] https://qiita.com/yukifddd/items/5668483705ef9d89a0c9\n",
    "\n",
    "### PySparkによるデータ前処理の例\n",
    "- 言語処理\n",
    "https://techblog.nhn-techorus.com/archives/7301\n",
    "- テーブルデータ\n",
    "https://www.ariseanalytics.com/activities/report/20211210/"
   ]
  }
 ],
 "metadata": {
  "kernelspec": {
   "display_name": "Python 3 (ipykernel)",
   "language": "python",
   "name": "python3"
  },
  "language_info": {
   "codemirror_mode": {
    "name": "ipython",
    "version": 3
   },
   "file_extension": ".py",
   "mimetype": "text/x-python",
   "name": "python",
   "nbconvert_exporter": "python",
   "pygments_lexer": "ipython3",
   "version": "3.10.6"
  },
  "livereveal": {
   "scroll": true,
   "slideNumber": true
  },
  "toc-autonumbering": false,
  "toc-showcode": false,
  "toc-showmarkdowntxt": false,
  "toc-showtags": true,
  "vscode": {
   "interpreter": {
    "hash": "5fc8f6aeac40b82c6c405864156b46a53018b054ad23d7164479fb232b21426c"
   }
  }
 },
 "nbformat": 4,
 "nbformat_minor": 4
}
