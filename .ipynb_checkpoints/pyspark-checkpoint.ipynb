{
 "cells": [
  {
   "cell_type": "code",
   "execution_count": 1,
   "metadata": {
    "slideshow": {
     "slide_type": "skip"
    }
   },
   "outputs": [
    {
     "data": {
      "text/html": [
       "<link rel=\"stylesheet\" href=\"custom.css\">\n"
      ],
      "text/plain": [
       "<IPython.core.display.HTML object>"
      ]
     },
     "metadata": {},
     "output_type": "display_data"
    }
   ],
   "source": [
    "%%HTML\n",
    "<link rel=\"stylesheet\" href=\"custom.css\">"
   ]
  },
  {
   "cell_type": "markdown",
   "metadata": {
    "jp-MarkdownHeadingCollapsed": true,
    "slideshow": {
     "slide_type": "slide"
    },
    "tags": []
   },
   "source": [
    "# Data ScienceのためのPython，その先へ\n",
    "<hr> \n",
    "\n",
    "#### ゼロからのpandasの使い方とPySparkへの架け橋\n",
    "株式会社ネットプロテクションズ\n",
    "関西開発インターン生　上野孝斗"
   ]
  },
  {
   "cell_type": "markdown",
   "metadata": {
    "slideshow": {
     "slide_type": "notes"
    }
   },
   "source": [
    "タイトルは以下書籍のオマージュです．ゼミで読んでました．\n",
    "\n",
    "https://www.amazon.co.jp/統計学への確率論、その先へ―ゼロからの測度論的理解と漸近理論への架け橋-清水-泰隆/dp/4753601250"
   ]
  },
  {
   "cell_type": "markdown",
   "metadata": {
    "slideshow": {
     "slide_type": "slide"
    },
    "tags": []
   },
   "source": [
    "## 本日の内容\n",
    "<hr>\n",
    "\n",
    "- 自己紹介\n",
    "- Pythonについて\n",
    "- Pandasの実際\n",
    "- Apache Sparkについて\n",
    "- Pysparkについて\n",
    "- Pysparkの実際\n",
    "- PandasとPysparkの比較\n",
    "- 参考"
   ]
  },
  {
   "cell_type": "markdown",
   "metadata": {
    "slideshow": {
     "slide_type": "slide"
    }
   },
   "source": [
    "## 注意\n",
    "<hr>\n",
    "\n",
    "画像の引用先は全て同スライドにある参考文献の番号に対応しています"
   ]
  },
  {
   "cell_type": "markdown",
   "metadata": {
    "jp-MarkdownHeadingCollapsed": true,
    "slideshow": {
     "slide_type": "slide"
    },
    "tags": []
   },
   "source": [
    "## 自己紹介\n",
    "<hr>\n",
    "\n",
    "- NPには6月からジョイン\n",
    "- 担当業務はAFTEE（DS）\n",
    "- 大学の専攻は強化学習[1]，ベイズモデリング\n",
    "- 趣味は散歩，ゲーム，映画鑑賞"
   ]
  },
  {
   "cell_type": "markdown",
   "metadata": {
    "jp-MarkdownHeadingCollapsed": true,
    "slideshow": {
     "slide_type": "slide"
    },
    "tags": []
   },
   "source": [
    "# Pythonについて"
   ]
  },
  {
   "cell_type": "markdown",
   "metadata": {
    "slideshow": {
     "slide_type": "slide"
    }
   },
   "source": [
    "## Pythonの概要\n",
    "<hr>\n",
    "\n",
    "- Python[2]は1990年代初期オランダで生まれたプログラミング言語\n",
    "- その習得のしやすさから，入門用として使われる\n",
    "- 一方，企業でもよく使われている\n"
   ]
  },
  {
   "cell_type": "markdown",
   "metadata": {
    "slideshow": {
     "slide_type": "slide"
    }
   },
   "source": [
    "## Pythonの主な利用用途\n",
    "<hr>\n",
    "\n",
    "- データサイエンスおよび数値計算\n",
    "- Webアプリケーション\n",
    "- システム管理及びグルー用語\n",
    "- 教育"
   ]
  },
  {
   "cell_type": "markdown",
   "metadata": {
    "slideshow": {
     "slide_type": "notes"
    }
   },
   "source": [
    "PythonがGlue言語と言われる理由については以下の参考文献をチェック  \n",
    "https://qiita.com/kawamou/items/05028c1a871d42119473"
   ]
  },
  {
   "cell_type": "markdown",
   "metadata": {
    "slideshow": {
     "slide_type": "slide"
    }
   },
   "source": [
    "## フリートーク\n",
    "<hr>\n",
    "\n",
    "- お題：Pythonライブラリについて\n",
    "- 知っているものでも，好きなものでも\n",
    "- 実はR派...(ﾎﾞｿｯ)みたいなのも"
   ]
  },
  {
   "cell_type": "markdown",
   "metadata": {
    "slideshow": {
     "slide_type": "slide"
    }
   },
   "source": [
    "## 有名なライブラリは数あれどやはり...\n",
    "<hr>\n",
    "\n",
    "- Pythonのライブラリといえばpandas!!(多分)\n",
    "- ...pandasについて少し紹介します"
   ]
  },
  {
   "cell_type": "markdown",
   "metadata": {
    "slideshow": {
     "slide_type": "notes"
    }
   },
   "source": [
    "有名なライブラリとしてPandasを挙げたのは進行上の都合になります."
   ]
  },
  {
   "cell_type": "markdown",
   "metadata": {
    "slideshow": {
     "slide_type": "slide"
    },
    "tags": []
   },
   "source": [
    "# pandasについて"
   ]
  },
  {
   "cell_type": "markdown",
   "metadata": {
    "slideshow": {
     "slide_type": "slide"
    }
   },
   "source": [
    "## pandasの概要\n",
    "<hr>\n",
    "\n",
    "- pandas[3]はPythonのライブラリの一つ\n",
    "- PythonでDataScienceするときはまずはとりあえずpandas\n",
    "- `pandas.DataFrame`オブジェクトによって，データフレームを作ることができる"
   ]
  },
  {
   "cell_type": "markdown",
   "metadata": {
    "slideshow": {
     "slide_type": "slide"
    }
   },
   "source": [
    "## 補足：データフレームについて\n",
    "<hr>\n",
    "\n",
    "- さまざまな種類のデータフレームが存在(dask,pandas,pickle,parquet...)する\n",
    "- ざっくり言うと，データフレーム＝二次元の表形式のデータ\n",
    "- 言い換えると，テーブルデータ，ラベル付き二次元配列"
   ]
  },
  {
   "cell_type": "markdown",
   "metadata": {
    "slideshow": {
     "slide_type": "slide"
    }
   },
   "source": [
    "## データフレームをpandasで作成\n",
    "<hr>\n",
    "\n",
    "- pandasでデータフレームを作成する\n",
    "- 10 minutes to pandas[4]より"
   ]
  },
  {
   "cell_type": "code",
   "execution_count": 2,
   "metadata": {
    "slideshow": {
     "slide_type": "slide"
    }
   },
   "outputs": [
    {
     "data": {
      "text/html": [
       "<div>\n",
       "<style scoped>\n",
       "    .dataframe tbody tr th:only-of-type {\n",
       "        vertical-align: middle;\n",
       "    }\n",
       "\n",
       "    .dataframe tbody tr th {\n",
       "        vertical-align: top;\n",
       "    }\n",
       "\n",
       "    .dataframe thead th {\n",
       "        text-align: right;\n",
       "    }\n",
       "</style>\n",
       "<table border=\"1\" class=\"dataframe\">\n",
       "  <thead>\n",
       "    <tr style=\"text-align: right;\">\n",
       "      <th></th>\n",
       "      <th>A</th>\n",
       "      <th>B</th>\n",
       "      <th>C</th>\n",
       "      <th>D</th>\n",
       "    </tr>\n",
       "  </thead>\n",
       "  <tbody>\n",
       "    <tr>\n",
       "      <th>2013-01-01</th>\n",
       "      <td>-0.170443</td>\n",
       "      <td>-0.732601</td>\n",
       "      <td>-1.311803</td>\n",
       "      <td>-0.010146</td>\n",
       "    </tr>\n",
       "    <tr>\n",
       "      <th>2013-01-02</th>\n",
       "      <td>0.803708</td>\n",
       "      <td>-0.888342</td>\n",
       "      <td>-1.942037</td>\n",
       "      <td>-1.667417</td>\n",
       "    </tr>\n",
       "    <tr>\n",
       "      <th>2013-01-03</th>\n",
       "      <td>-0.514631</td>\n",
       "      <td>0.626405</td>\n",
       "      <td>0.138610</td>\n",
       "      <td>0.282927</td>\n",
       "    </tr>\n",
       "    <tr>\n",
       "      <th>2013-01-04</th>\n",
       "      <td>0.301704</td>\n",
       "      <td>0.424543</td>\n",
       "      <td>0.559864</td>\n",
       "      <td>-0.642745</td>\n",
       "    </tr>\n",
       "    <tr>\n",
       "      <th>2013-01-05</th>\n",
       "      <td>-1.906992</td>\n",
       "      <td>-1.093645</td>\n",
       "      <td>-0.401919</td>\n",
       "      <td>-1.187676</td>\n",
       "    </tr>\n",
       "    <tr>\n",
       "      <th>2013-01-06</th>\n",
       "      <td>-0.183870</td>\n",
       "      <td>-1.085584</td>\n",
       "      <td>-0.662191</td>\n",
       "      <td>-1.586502</td>\n",
       "    </tr>\n",
       "  </tbody>\n",
       "</table>\n",
       "</div>"
      ],
      "text/plain": [
       "                   A         B         C         D\n",
       "2013-01-01 -0.170443 -0.732601 -1.311803 -0.010146\n",
       "2013-01-02  0.803708 -0.888342 -1.942037 -1.667417\n",
       "2013-01-03 -0.514631  0.626405  0.138610  0.282927\n",
       "2013-01-04  0.301704  0.424543  0.559864 -0.642745\n",
       "2013-01-05 -1.906992 -1.093645 -0.401919 -1.187676\n",
       "2013-01-06 -0.183870 -1.085584 -0.662191 -1.586502"
      ]
     },
     "execution_count": 2,
     "metadata": {},
     "output_type": "execute_result"
    }
   ],
   "source": [
    "import pandas as pd\n",
    "import numpy as np\n",
    "\n",
    "pd.set_option('display.max_columns', None)\n",
    "pd.set_option('display.max_rows', None)\n",
    "\n",
    "dates = pd.date_range(\"20130101\", periods=6)\n",
    "df = pd.DataFrame(np.random.randn(6, 4), index=dates, columns=list(\"ABCD\"))\n",
    "df"
   ]
  },
  {
   "cell_type": "markdown",
   "metadata": {
    "slideshow": {
     "slide_type": "slide"
    }
   },
   "source": [
    "# pandasでできること"
   ]
  },
  {
   "cell_type": "markdown",
   "metadata": {
    "slideshow": {
     "slide_type": "slide"
    }
   },
   "source": [
    "## 抽出（WHERE）\n",
    "<hr>\n",
    "\n",
    "- [6]を全体的に参考にした\n",
    "- まずはデータを作る"
   ]
  },
  {
   "cell_type": "code",
   "execution_count": 3,
   "metadata": {
    "slideshow": {
     "slide_type": "-"
    }
   },
   "outputs": [
    {
     "data": {
      "text/html": [
       "<div>\n",
       "<style scoped>\n",
       "    .dataframe tbody tr th:only-of-type {\n",
       "        vertical-align: middle;\n",
       "    }\n",
       "\n",
       "    .dataframe tbody tr th {\n",
       "        vertical-align: top;\n",
       "    }\n",
       "\n",
       "    .dataframe thead th {\n",
       "        text-align: right;\n",
       "    }\n",
       "</style>\n",
       "<table border=\"1\" class=\"dataframe\">\n",
       "  <thead>\n",
       "    <tr style=\"text-align: right;\">\n",
       "      <th></th>\n",
       "      <th>student</th>\n",
       "      <th>class</th>\n",
       "      <th>score</th>\n",
       "    </tr>\n",
       "  </thead>\n",
       "  <tbody>\n",
       "    <tr>\n",
       "      <th>0</th>\n",
       "      <td>Larissa</td>\n",
       "      <td>A</td>\n",
       "      <td>50</td>\n",
       "    </tr>\n",
       "    <tr>\n",
       "      <th>1</th>\n",
       "      <td>Jaylan</td>\n",
       "      <td>B</td>\n",
       "      <td>69</td>\n",
       "    </tr>\n",
       "    <tr>\n",
       "      <th>2</th>\n",
       "      <td>Golda</td>\n",
       "      <td>A</td>\n",
       "      <td>68</td>\n",
       "    </tr>\n",
       "    <tr>\n",
       "      <th>3</th>\n",
       "      <td>Myriam</td>\n",
       "      <td>A</td>\n",
       "      <td>70</td>\n",
       "    </tr>\n",
       "    <tr>\n",
       "      <th>4</th>\n",
       "      <td>Fabiola</td>\n",
       "      <td>C</td>\n",
       "      <td>82</td>\n",
       "    </tr>\n",
       "    <tr>\n",
       "      <th>5</th>\n",
       "      <td>Abigail</td>\n",
       "      <td>C</td>\n",
       "      <td>57</td>\n",
       "    </tr>\n",
       "    <tr>\n",
       "      <th>6</th>\n",
       "      <td>Hardy</td>\n",
       "      <td>B</td>\n",
       "      <td>88</td>\n",
       "    </tr>\n",
       "    <tr>\n",
       "      <th>7</th>\n",
       "      <td>Jeromy</td>\n",
       "      <td>C</td>\n",
       "      <td>93</td>\n",
       "    </tr>\n",
       "  </tbody>\n",
       "</table>\n",
       "</div>"
      ],
      "text/plain": [
       "   student class  score\n",
       "0  Larissa     A     50\n",
       "1   Jaylan     B     69\n",
       "2    Golda     A     68\n",
       "3   Myriam     A     70\n",
       "4  Fabiola     C     82\n",
       "5  Abigail     C     57\n",
       "6    Hardy     B     88\n",
       "7   Jeromy     C     93"
      ]
     },
     "execution_count": 3,
     "metadata": {},
     "output_type": "execute_result"
    }
   ],
   "source": [
    "pdf = pd.DataFrame({\n",
    "    'student': ['Larissa', 'Jaylan', 'Golda', 'Myriam', 'Fabiola', 'Abigail', 'Hardy', 'Jeromy'],\n",
    "    'class': list('ABAACCBC'),\n",
    "    'score': [50, 69, 68, 70, 82, 57, 88, 93],\n",
    "})\n",
    "pdf"
   ]
  },
  {
   "cell_type": "markdown",
   "metadata": {
    "slideshow": {
     "slide_type": "slide"
    }
   },
   "source": [
    "- このデータからA組のテスト結果の点数と生徒の名前を抽出する．もしSQLでやるならこのようになる．\n",
    "\n",
    "```\n",
    "SELECT id, student, class\n",
    "FROM test_result\n",
    "WHERE class == 'A'\n",
    "```\n",
    "- pandasを使った場合は以下のように書ける"
   ]
  },
  {
   "cell_type": "code",
   "execution_count": 4,
   "metadata": {
    "slideshow": {
     "slide_type": "-"
    }
   },
   "outputs": [
    {
     "data": {
      "text/html": [
       "<div>\n",
       "<style scoped>\n",
       "    .dataframe tbody tr th:only-of-type {\n",
       "        vertical-align: middle;\n",
       "    }\n",
       "\n",
       "    .dataframe tbody tr th {\n",
       "        vertical-align: top;\n",
       "    }\n",
       "\n",
       "    .dataframe thead th {\n",
       "        text-align: right;\n",
       "    }\n",
       "</style>\n",
       "<table border=\"1\" class=\"dataframe\">\n",
       "  <thead>\n",
       "    <tr style=\"text-align: right;\">\n",
       "      <th></th>\n",
       "      <th>student</th>\n",
       "      <th>score</th>\n",
       "    </tr>\n",
       "  </thead>\n",
       "  <tbody>\n",
       "    <tr>\n",
       "      <th>0</th>\n",
       "      <td>Larissa</td>\n",
       "      <td>50</td>\n",
       "    </tr>\n",
       "    <tr>\n",
       "      <th>2</th>\n",
       "      <td>Golda</td>\n",
       "      <td>68</td>\n",
       "    </tr>\n",
       "    <tr>\n",
       "      <th>3</th>\n",
       "      <td>Myriam</td>\n",
       "      <td>70</td>\n",
       "    </tr>\n",
       "  </tbody>\n",
       "</table>\n",
       "</div>"
      ],
      "text/plain": [
       "   student  score\n",
       "0  Larissa     50\n",
       "2    Golda     68\n",
       "3   Myriam     70"
      ]
     },
     "execution_count": 4,
     "metadata": {},
     "output_type": "execute_result"
    }
   ],
   "source": [
    "pdf.loc[pdf['class'] == 'A', ['student', 'score']]"
   ]
  },
  {
   "cell_type": "markdown",
   "metadata": {
    "slideshow": {
     "slide_type": "-"
    }
   },
   "source": [
    "pandasでは，`Dataframe.loc`で行について操作することができるようになる"
   ]
  },
  {
   "cell_type": "markdown",
   "metadata": {
    "slideshow": {
     "slide_type": "slide"
    }
   },
   "source": [
    "## 複数の条件で抽出\n",
    "<hr>\n",
    "\n",
    "- 複数の条件を抽出したいときは`&`や`|`を用いる．`and`や`or`ではエラーが出るので注意\n",
    "- boolean型でも抽出ができる\n",
    "- 「C組のうち、80点以上の生徒」という複数の条件で抽出する"
   ]
  },
  {
   "cell_type": "code",
   "execution_count": 5,
   "metadata": {
    "slideshow": {
     "slide_type": "-"
    }
   },
   "outputs": [
    {
     "data": {
      "text/html": [
       "<div>\n",
       "<style scoped>\n",
       "    .dataframe tbody tr th:only-of-type {\n",
       "        vertical-align: middle;\n",
       "    }\n",
       "\n",
       "    .dataframe tbody tr th {\n",
       "        vertical-align: top;\n",
       "    }\n",
       "\n",
       "    .dataframe thead th {\n",
       "        text-align: right;\n",
       "    }\n",
       "</style>\n",
       "<table border=\"1\" class=\"dataframe\">\n",
       "  <thead>\n",
       "    <tr style=\"text-align: right;\">\n",
       "      <th></th>\n",
       "      <th>student</th>\n",
       "      <th>class</th>\n",
       "      <th>score</th>\n",
       "    </tr>\n",
       "  </thead>\n",
       "  <tbody>\n",
       "    <tr>\n",
       "      <th>4</th>\n",
       "      <td>Fabiola</td>\n",
       "      <td>C</td>\n",
       "      <td>82</td>\n",
       "    </tr>\n",
       "    <tr>\n",
       "      <th>7</th>\n",
       "      <td>Jeromy</td>\n",
       "      <td>C</td>\n",
       "      <td>93</td>\n",
       "    </tr>\n",
       "  </tbody>\n",
       "</table>\n",
       "</div>"
      ],
      "text/plain": [
       "   student class  score\n",
       "4  Fabiola     C     82\n",
       "7   Jeromy     C     93"
      ]
     },
     "execution_count": 5,
     "metadata": {},
     "output_type": "execute_result"
    }
   ],
   "source": [
    "pdf.loc[(pdf['class'] == 'C') & (pdf['score'] >= 80)]"
   ]
  },
  {
   "cell_type": "markdown",
   "metadata": {
    "slideshow": {
     "slide_type": "slide"
    }
   },
   "source": [
    "## 結合（JOIN）\n",
    "<hr>\n",
    "\n",
    "- `student`，`attendance`と二つのテーブルを用意する"
   ]
  },
  {
   "cell_type": "code",
   "execution_count": 6,
   "metadata": {
    "slideshow": {
     "slide_type": "-"
    }
   },
   "outputs": [],
   "source": [
    "# [7]を参考\n",
    "from IPython.display import HTML\n",
    "from jinja2 import Template\n",
    "\n",
    "student = pd.DataFrame({\n",
    "    'name': ['Larissa', 'Jaylan', 'Golda', 'Myriam', 'Fabiola', 'Abigail', 'Bernice', 'Hardy', 'Jeromy'],\n",
    "    'class': list('ABAACCBBC'),\n",
    "}, index=['A1', 'B1', 'A2', 'A3', 'C1', 'C2', 'B2', 'B3', 'C4'])\n",
    "\n",
    "attendance = pd.DataFrame({\n",
    "    'student_id': ['C2', 'C1', 'C4', 'A1', 'C2', 'B2', 'A1', 'B1', 'B3'],\n",
    "    'subject': ['History', 'Japanese', 'English', 'math', 'math', 'History', 'math', 'math', 'History'],\n",
    "})"
   ]
  },
  {
   "cell_type": "code",
   "execution_count": 7,
   "metadata": {
    "slideshow": {
     "slide_type": "slide"
    }
   },
   "outputs": [
    {
     "data": {
      "text/html": [
       "\n",
       "<table>\n",
       "  <tr>\n",
       "    <td><table border=\"1\" class=\"dataframe\">\n",
       "  <thead>\n",
       "    <tr style=\"text-align: right;\">\n",
       "      <th></th>\n",
       "      <th>name</th>\n",
       "      <th>class</th>\n",
       "    </tr>\n",
       "  </thead>\n",
       "  <tbody>\n",
       "    <tr>\n",
       "      <th>A1</th>\n",
       "      <td>Larissa</td>\n",
       "      <td>A</td>\n",
       "    </tr>\n",
       "    <tr>\n",
       "      <th>B1</th>\n",
       "      <td>Jaylan</td>\n",
       "      <td>B</td>\n",
       "    </tr>\n",
       "    <tr>\n",
       "      <th>A2</th>\n",
       "      <td>Golda</td>\n",
       "      <td>A</td>\n",
       "    </tr>\n",
       "    <tr>\n",
       "      <th>A3</th>\n",
       "      <td>Myriam</td>\n",
       "      <td>A</td>\n",
       "    </tr>\n",
       "    <tr>\n",
       "      <th>C1</th>\n",
       "      <td>Fabiola</td>\n",
       "      <td>C</td>\n",
       "    </tr>\n",
       "    <tr>\n",
       "      <th>C2</th>\n",
       "      <td>Abigail</td>\n",
       "      <td>C</td>\n",
       "    </tr>\n",
       "    <tr>\n",
       "      <th>B2</th>\n",
       "      <td>Bernice</td>\n",
       "      <td>B</td>\n",
       "    </tr>\n",
       "    <tr>\n",
       "      <th>B3</th>\n",
       "      <td>Hardy</td>\n",
       "      <td>B</td>\n",
       "    </tr>\n",
       "    <tr>\n",
       "      <th>C4</th>\n",
       "      <td>Jeromy</td>\n",
       "      <td>C</td>\n",
       "    </tr>\n",
       "  </tbody>\n",
       "</table></td>\n",
       "    <td><table border=\"1\" class=\"dataframe\">\n",
       "  <thead>\n",
       "    <tr style=\"text-align: right;\">\n",
       "      <th></th>\n",
       "      <th>student_id</th>\n",
       "      <th>subject</th>\n",
       "    </tr>\n",
       "  </thead>\n",
       "  <tbody>\n",
       "    <tr>\n",
       "      <th>0</th>\n",
       "      <td>C2</td>\n",
       "      <td>History</td>\n",
       "    </tr>\n",
       "    <tr>\n",
       "      <th>1</th>\n",
       "      <td>C1</td>\n",
       "      <td>Japanese</td>\n",
       "    </tr>\n",
       "    <tr>\n",
       "      <th>2</th>\n",
       "      <td>C4</td>\n",
       "      <td>English</td>\n",
       "    </tr>\n",
       "    <tr>\n",
       "      <th>3</th>\n",
       "      <td>A1</td>\n",
       "      <td>math</td>\n",
       "    </tr>\n",
       "    <tr>\n",
       "      <th>4</th>\n",
       "      <td>C2</td>\n",
       "      <td>math</td>\n",
       "    </tr>\n",
       "    <tr>\n",
       "      <th>5</th>\n",
       "      <td>B2</td>\n",
       "      <td>History</td>\n",
       "    </tr>\n",
       "    <tr>\n",
       "      <th>6</th>\n",
       "      <td>A1</td>\n",
       "      <td>math</td>\n",
       "    </tr>\n",
       "    <tr>\n",
       "      <th>7</th>\n",
       "      <td>B1</td>\n",
       "      <td>math</td>\n",
       "    </tr>\n",
       "    <tr>\n",
       "      <th>8</th>\n",
       "      <td>B3</td>\n",
       "      <td>History</td>\n",
       "    </tr>\n",
       "  </tbody>\n",
       "</table></td>\n",
       "  </tr>\n",
       "</table>"
      ],
      "text/plain": [
       "<IPython.core.display.HTML object>"
      ]
     },
     "execution_count": 7,
     "metadata": {},
     "output_type": "execute_result"
    }
   ],
   "source": [
    "html_tpl = \"\"\"\n",
    "<table>\n",
    "  <tr>\n",
    "    <td>{{ student }}</td>\n",
    "    <td>{{ attendance }}</td>\n",
    "  </tr>\n",
    "</table>\n",
    "\"\"\"\n",
    "tpl = Template(html_tpl)\n",
    "html_text = tpl.render({\"attendance\": attendance.to_html(), \"student\": student.to_html()})\n",
    "\n",
    "HTML(html_text)"
   ]
  },
  {
   "cell_type": "markdown",
   "metadata": {
    "slideshow": {
     "slide_type": "slide"
    }
   },
   "source": [
    "- `INNER JOIN`はSQLだと以下のようになる\n",
    "```\n",
    "SELECT *\n",
    "FROM attendance INNER JOIN student\n",
    "  ON attendance.student_id = student.id\n",
    "```\n",
    "- pandasではこのようになる"
   ]
  },
  {
   "cell_type": "code",
   "execution_count": 8,
   "metadata": {
    "slideshow": {
     "slide_type": "-"
    }
   },
   "outputs": [
    {
     "data": {
      "text/html": [
       "<div>\n",
       "<style scoped>\n",
       "    .dataframe tbody tr th:only-of-type {\n",
       "        vertical-align: middle;\n",
       "    }\n",
       "\n",
       "    .dataframe tbody tr th {\n",
       "        vertical-align: top;\n",
       "    }\n",
       "\n",
       "    .dataframe thead th {\n",
       "        text-align: right;\n",
       "    }\n",
       "</style>\n",
       "<table border=\"1\" class=\"dataframe\">\n",
       "  <thead>\n",
       "    <tr style=\"text-align: right;\">\n",
       "      <th></th>\n",
       "      <th>student_id</th>\n",
       "      <th>subject</th>\n",
       "      <th>name</th>\n",
       "      <th>class</th>\n",
       "    </tr>\n",
       "  </thead>\n",
       "  <tbody>\n",
       "    <tr>\n",
       "      <th>0</th>\n",
       "      <td>C2</td>\n",
       "      <td>History</td>\n",
       "      <td>Abigail</td>\n",
       "      <td>C</td>\n",
       "    </tr>\n",
       "    <tr>\n",
       "      <th>4</th>\n",
       "      <td>C2</td>\n",
       "      <td>math</td>\n",
       "      <td>Abigail</td>\n",
       "      <td>C</td>\n",
       "    </tr>\n",
       "    <tr>\n",
       "      <th>1</th>\n",
       "      <td>C1</td>\n",
       "      <td>Japanese</td>\n",
       "      <td>Fabiola</td>\n",
       "      <td>C</td>\n",
       "    </tr>\n",
       "    <tr>\n",
       "      <th>2</th>\n",
       "      <td>C4</td>\n",
       "      <td>English</td>\n",
       "      <td>Jeromy</td>\n",
       "      <td>C</td>\n",
       "    </tr>\n",
       "    <tr>\n",
       "      <th>3</th>\n",
       "      <td>A1</td>\n",
       "      <td>math</td>\n",
       "      <td>Larissa</td>\n",
       "      <td>A</td>\n",
       "    </tr>\n",
       "    <tr>\n",
       "      <th>6</th>\n",
       "      <td>A1</td>\n",
       "      <td>math</td>\n",
       "      <td>Larissa</td>\n",
       "      <td>A</td>\n",
       "    </tr>\n",
       "    <tr>\n",
       "      <th>5</th>\n",
       "      <td>B2</td>\n",
       "      <td>History</td>\n",
       "      <td>Bernice</td>\n",
       "      <td>B</td>\n",
       "    </tr>\n",
       "    <tr>\n",
       "      <th>7</th>\n",
       "      <td>B1</td>\n",
       "      <td>math</td>\n",
       "      <td>Jaylan</td>\n",
       "      <td>B</td>\n",
       "    </tr>\n",
       "    <tr>\n",
       "      <th>8</th>\n",
       "      <td>B3</td>\n",
       "      <td>History</td>\n",
       "      <td>Hardy</td>\n",
       "      <td>B</td>\n",
       "    </tr>\n",
       "  </tbody>\n",
       "</table>\n",
       "</div>"
      ],
      "text/plain": [
       "  student_id   subject     name class\n",
       "0         C2   History  Abigail     C\n",
       "4         C2      math  Abigail     C\n",
       "1         C1  Japanese  Fabiola     C\n",
       "2         C4   English   Jeromy     C\n",
       "3         A1      math  Larissa     A\n",
       "6         A1      math  Larissa     A\n",
       "5         B2   History  Bernice     B\n",
       "7         B1      math   Jaylan     B\n",
       "8         B3   History    Hardy     B"
      ]
     },
     "execution_count": 8,
     "metadata": {},
     "output_type": "execute_result"
    }
   ],
   "source": [
    "pd.merge(attendance, student, left_on='student_id', right_index=True)"
   ]
  },
  {
   "cell_type": "markdown",
   "metadata": {
    "slideshow": {
     "slide_type": "slide"
    },
    "tags": []
   },
   "source": [
    "- 続いて`LEFT JOIN`をやってみる\n",
    "- 「B組の生徒について、歴史（History）への出席情報」を取得する\n",
    "- SQLでは以下のようになる\n",
    "\n",
    "```\n",
    "SELECT *\n",
    "FROM student LEFT JOIN attendance\n",
    "  ON student.id = attendance.student_id\n",
    "WHERE student.class = 'B' AND attendance.subject = 'History'\n",
    "```"
   ]
  },
  {
   "cell_type": "markdown",
   "metadata": {
    "slideshow": {
     "slide_type": "slide"
    },
    "tags": []
   },
   "source": [
    "- pandasでは次のようにする"
   ]
  },
  {
   "cell_type": "code",
   "execution_count": 9,
   "metadata": {
    "slideshow": {
     "slide_type": "-"
    },
    "tags": []
   },
   "outputs": [
    {
     "data": {
      "text/html": [
       "<div>\n",
       "<style scoped>\n",
       "    .dataframe tbody tr th:only-of-type {\n",
       "        vertical-align: middle;\n",
       "    }\n",
       "\n",
       "    .dataframe tbody tr th {\n",
       "        vertical-align: top;\n",
       "    }\n",
       "\n",
       "    .dataframe thead th {\n",
       "        text-align: right;\n",
       "    }\n",
       "</style>\n",
       "<table border=\"1\" class=\"dataframe\">\n",
       "  <thead>\n",
       "    <tr style=\"text-align: right;\">\n",
       "      <th></th>\n",
       "      <th>name</th>\n",
       "      <th>class</th>\n",
       "      <th>student_id</th>\n",
       "      <th>subject</th>\n",
       "    </tr>\n",
       "  </thead>\n",
       "  <tbody>\n",
       "    <tr>\n",
       "      <th>NaN</th>\n",
       "      <td>Jaylan</td>\n",
       "      <td>B</td>\n",
       "      <td>B1</td>\n",
       "      <td>NaN</td>\n",
       "    </tr>\n",
       "    <tr>\n",
       "      <th>5.0</th>\n",
       "      <td>Bernice</td>\n",
       "      <td>B</td>\n",
       "      <td>B2</td>\n",
       "      <td>History</td>\n",
       "    </tr>\n",
       "    <tr>\n",
       "      <th>8.0</th>\n",
       "      <td>Hardy</td>\n",
       "      <td>B</td>\n",
       "      <td>B3</td>\n",
       "      <td>History</td>\n",
       "    </tr>\n",
       "  </tbody>\n",
       "</table>\n",
       "</div>"
      ],
      "text/plain": [
       "        name class student_id  subject\n",
       "NaN   Jaylan     B         B1      NaN\n",
       "5.0  Bernice     B         B2  History\n",
       "8.0    Hardy     B         B3  History"
      ]
     },
     "execution_count": 9,
     "metadata": {},
     "output_type": "execute_result"
    }
   ],
   "source": [
    "# 各DataFrameからB組、およびHistoryの出席情報をそれぞれ抽出\n",
    "b_student = student.loc[student['class'] == 'B']\n",
    "history_attendance = attendance.loc[attendance['subject'] == 'History']\n",
    "\n",
    "# LEFT JOINを実行\n",
    "pd.merge(\n",
    "    b_student,\n",
    "    history_attendance,\n",
    "    left_index=True,\n",
    "    right_on='student_id',\n",
    "    how='left',\n",
    ")"
   ]
  },
  {
   "cell_type": "markdown",
   "metadata": {
    "slideshow": {
     "slide_type": "slide"
    }
   },
   "source": [
    "- `pd.merge()`では．結合に使う列名を指定できる\n",
    "- 列名の左右について注意が必要[6]\n",
    "![](pic2.png)"
   ]
  },
  {
   "cell_type": "markdown",
   "metadata": {
    "slideshow": {
     "slide_type": "slide"
    },
    "tags": []
   },
   "source": [
    "## 集約（GROUP BY）\n",
    "<hr>\n",
    "\n",
    "以下のような`test_result`テーブルを例にする"
   ]
  },
  {
   "cell_type": "code",
   "execution_count": 10,
   "metadata": {
    "slideshow": {
     "slide_type": "-"
    },
    "tags": []
   },
   "outputs": [],
   "source": [
    "test_result = pd.DataFrame({\n",
    "    'name': np.sort(['Larissa', 'Jaylan', 'Golda', 'Myriam', 'Fabiola', 'Abigail', 'Bernice', 'Hardy', 'Jeromy'] * 2),\n",
    "    'class': np.sort(list('AABBCC') * 3),\n",
    "    'subject': ['math', 'English'] * 9,\n",
    "    'score': [50, 72, 96, 74, 66, 65, 51, 65, 85, 69, 53, 76, 44, 77, 56, 56, 52, 68],\n",
    "})"
   ]
  },
  {
   "cell_type": "markdown",
   "metadata": {
    "slideshow": {
     "slide_type": "slide"
    },
    "tags": []
   },
   "source": [
    "- 集約関数が一つのとき\n",
    "- 例えば，「クラスごと，教科ごとの平均点」を求めてみる\n",
    "- SQLでは以下のようになる\n",
    "\n",
    "```\n",
    "SELECT class, subject, avg(score)\n",
    "FROM test_result\n",
    "GROUP BY class, subject\n",
    "```\n",
    "\n",
    "- pandasでは次のようになる"
   ]
  },
  {
   "cell_type": "code",
   "execution_count": 11,
   "metadata": {
    "slideshow": {
     "slide_type": "slide"
    },
    "tags": []
   },
   "outputs": [
    {
     "name": "stderr",
     "output_type": "stream",
     "text": [
      "/var/folders/nr/8kygzlbx7djc1yh15qnzhhgr0000gn/T/ipykernel_21550/2146501525.py:1: FutureWarning: The default value of numeric_only in DataFrameGroupBy.mean is deprecated. In a future version, numeric_only will default to False. Either specify numeric_only or select only columns which should be valid for the function.\n",
      "  test_result.groupby(['class', 'subject']).mean()\n"
     ]
    },
    {
     "data": {
      "text/html": [
       "<div>\n",
       "<style scoped>\n",
       "    .dataframe tbody tr th:only-of-type {\n",
       "        vertical-align: middle;\n",
       "    }\n",
       "\n",
       "    .dataframe tbody tr th {\n",
       "        vertical-align: top;\n",
       "    }\n",
       "\n",
       "    .dataframe thead th {\n",
       "        text-align: right;\n",
       "    }\n",
       "</style>\n",
       "<table border=\"1\" class=\"dataframe\">\n",
       "  <thead>\n",
       "    <tr style=\"text-align: right;\">\n",
       "      <th></th>\n",
       "      <th></th>\n",
       "      <th>score</th>\n",
       "    </tr>\n",
       "    <tr>\n",
       "      <th>class</th>\n",
       "      <th>subject</th>\n",
       "      <th></th>\n",
       "    </tr>\n",
       "  </thead>\n",
       "  <tbody>\n",
       "    <tr>\n",
       "      <th rowspan=\"2\" valign=\"top\">A</th>\n",
       "      <th>English</th>\n",
       "      <td>70.333333</td>\n",
       "    </tr>\n",
       "    <tr>\n",
       "      <th>math</th>\n",
       "      <td>70.666667</td>\n",
       "    </tr>\n",
       "    <tr>\n",
       "      <th rowspan=\"2\" valign=\"top\">B</th>\n",
       "      <th>English</th>\n",
       "      <td>70.000000</td>\n",
       "    </tr>\n",
       "    <tr>\n",
       "      <th>math</th>\n",
       "      <td>63.000000</td>\n",
       "    </tr>\n",
       "    <tr>\n",
       "      <th rowspan=\"2\" valign=\"top\">C</th>\n",
       "      <th>English</th>\n",
       "      <td>67.000000</td>\n",
       "    </tr>\n",
       "    <tr>\n",
       "      <th>math</th>\n",
       "      <td>50.666667</td>\n",
       "    </tr>\n",
       "  </tbody>\n",
       "</table>\n",
       "</div>"
      ],
      "text/plain": [
       "                   score\n",
       "class subject           \n",
       "A     English  70.333333\n",
       "      math     70.666667\n",
       "B     English  70.000000\n",
       "      math     63.000000\n",
       "C     English  67.000000\n",
       "      math     50.666667"
      ]
     },
     "execution_count": 11,
     "metadata": {},
     "output_type": "execute_result"
    }
   ],
   "source": [
    "test_result.groupby(['class', 'subject']).mean()"
   ]
  },
  {
   "cell_type": "markdown",
   "metadata": {
    "slideshow": {
     "slide_type": "slide"
    },
    "tags": []
   },
   "source": [
    "- 集約関数が複数ある場合\n",
    "- 平均だけでなく，最大点も表示したいときがある\n",
    "- その場合は`DataFrameGroupBy`オブジェクトの`agg()`メソッドを使うことによって実現できる"
   ]
  },
  {
   "cell_type": "code",
   "execution_count": 12,
   "metadata": {
    "slideshow": {
     "slide_type": "-"
    },
    "tags": []
   },
   "outputs": [
    {
     "name": "stderr",
     "output_type": "stream",
     "text": [
      "/var/folders/nr/8kygzlbx7djc1yh15qnzhhgr0000gn/T/ipykernel_21550/3838957712.py:2: FutureWarning: ['name'] did not aggregate successfully. If any error is raised this will raise in a future version of pandas. Drop these columns/ops to avoid this warning.\n",
      "  grouped.agg(['mean', 'max'])\n"
     ]
    },
    {
     "data": {
      "text/html": [
       "<div>\n",
       "<style scoped>\n",
       "    .dataframe tbody tr th:only-of-type {\n",
       "        vertical-align: middle;\n",
       "    }\n",
       "\n",
       "    .dataframe tbody tr th {\n",
       "        vertical-align: top;\n",
       "    }\n",
       "\n",
       "    .dataframe thead tr th {\n",
       "        text-align: left;\n",
       "    }\n",
       "\n",
       "    .dataframe thead tr:last-of-type th {\n",
       "        text-align: right;\n",
       "    }\n",
       "</style>\n",
       "<table border=\"1\" class=\"dataframe\">\n",
       "  <thead>\n",
       "    <tr>\n",
       "      <th></th>\n",
       "      <th></th>\n",
       "      <th colspan=\"2\" halign=\"left\">score</th>\n",
       "    </tr>\n",
       "    <tr>\n",
       "      <th></th>\n",
       "      <th></th>\n",
       "      <th>mean</th>\n",
       "      <th>max</th>\n",
       "    </tr>\n",
       "    <tr>\n",
       "      <th>class</th>\n",
       "      <th>subject</th>\n",
       "      <th></th>\n",
       "      <th></th>\n",
       "    </tr>\n",
       "  </thead>\n",
       "  <tbody>\n",
       "    <tr>\n",
       "      <th rowspan=\"2\" valign=\"top\">A</th>\n",
       "      <th>English</th>\n",
       "      <td>70.333333</td>\n",
       "      <td>74</td>\n",
       "    </tr>\n",
       "    <tr>\n",
       "      <th>math</th>\n",
       "      <td>70.666667</td>\n",
       "      <td>96</td>\n",
       "    </tr>\n",
       "    <tr>\n",
       "      <th rowspan=\"2\" valign=\"top\">B</th>\n",
       "      <th>English</th>\n",
       "      <td>70.000000</td>\n",
       "      <td>76</td>\n",
       "    </tr>\n",
       "    <tr>\n",
       "      <th>math</th>\n",
       "      <td>63.000000</td>\n",
       "      <td>85</td>\n",
       "    </tr>\n",
       "    <tr>\n",
       "      <th rowspan=\"2\" valign=\"top\">C</th>\n",
       "      <th>English</th>\n",
       "      <td>67.000000</td>\n",
       "      <td>77</td>\n",
       "    </tr>\n",
       "    <tr>\n",
       "      <th>math</th>\n",
       "      <td>50.666667</td>\n",
       "      <td>56</td>\n",
       "    </tr>\n",
       "  </tbody>\n",
       "</table>\n",
       "</div>"
      ],
      "text/plain": [
       "                   score    \n",
       "                    mean max\n",
       "class subject               \n",
       "A     English  70.333333  74\n",
       "      math     70.666667  96\n",
       "B     English  70.000000  76\n",
       "      math     63.000000  85\n",
       "C     English  67.000000  77\n",
       "      math     50.666667  56"
      ]
     },
     "execution_count": 12,
     "metadata": {},
     "output_type": "execute_result"
    }
   ],
   "source": [
    "grouped = test_result.groupby(['class', 'subject'])\n",
    "grouped.agg(['mean', 'max'])"
   ]
  },
  {
   "cell_type": "markdown",
   "metadata": {
    "slideshow": {
     "slide_type": "slide"
    }
   },
   "source": [
    "## pandasの課題点\n",
    "<hr>\n",
    "\n",
    "- pandasはものすごく便利だけど\n",
    "- ビッグデータではメモリエラーが出る／処理が遅い\n",
    "- SQLに習熟している場合は文法がわかりにくいことも"
   ]
  },
  {
   "cell_type": "markdown",
   "metadata": {
    "slideshow": {
     "slide_type": "slide"
    }
   },
   "source": [
    "## フリートーク（その２）\n",
    "\n",
    "<hr>\n",
    "\n",
    "- メモリエラーを起こさずにデータを扱うにはどんな方法があるか"
   ]
  },
  {
   "cell_type": "markdown",
   "metadata": {
    "slideshow": {
     "slide_type": "slide"
    }
   },
   "source": [
    "## pandasからApache Sparkへ\n",
    "<hr>\n",
    "\n",
    "- Apache Sparkを使えば，場合によってはpandasの100倍早く処理を行うことができる"
   ]
  },
  {
   "cell_type": "markdown",
   "metadata": {
    "slideshow": {
     "slide_type": "slide"
    },
    "tags": []
   },
   "source": [
    "# Apache Sparkについて"
   ]
  },
  {
   "cell_type": "markdown",
   "metadata": {
    "slideshow": {
     "slide_type": "slide"
    }
   },
   "source": [
    "## Apache Sparkの概要\n",
    "<hr>\n",
    "\n",
    "- 並列分散処理を行えるデータ処理ツール\n",
    "- 大規模データ分析を行う際に役立つ！"
   ]
  },
  {
   "cell_type": "markdown",
   "metadata": {
    "slideshow": {
     "slide_type": "slide"
    }
   },
   "source": [
    "## Python + Apache Spark= ?\n",
    "<hr>\n",
    "\n",
    "- PythonでApache Sparkがもし使えたら...\n",
    "- 学習しやすい，使いやすい！！\n",
    "- もちろんJupyter Lab（Notebook）で使える！\n",
    "- それがPySpark!![5]\n",
    "\n",
    "![](pic3.png)"
   ]
  },
  {
   "cell_type": "markdown",
   "metadata": {
    "slideshow": {
     "slide_type": "slide"
    },
    "tags": []
   },
   "source": [
    "# PySparkについて"
   ]
  },
  {
   "cell_type": "markdown",
   "metadata": {
    "slideshow": {
     "slide_type": "slide"
    }
   },
   "source": [
    "## PySparkの概要\n",
    "<hr>\n",
    "\n",
    "- Sparkをpython上で実行するためのAPI\n",
    "- python以外にも実はsparkにはたくさんのAPIがあり，たくさんの言語に対応している．"
   ]
  },
  {
   "cell_type": "markdown",
   "metadata": {
    "slideshow": {
     "slide_type": "slide"
    }
   },
   "source": [
    "# PySparkでできること\n"
   ]
  },
  {
   "cell_type": "markdown",
   "metadata": {
    "slideshow": {
     "slide_type": "slide"
    }
   },
   "source": [
    "## PySparkとPandasの互換性\n",
    "<hr>\n",
    "\n",
    "- pandasのDFとPySparkのDFは相互に変換することができる\n",
    "- 実際のところは．pandasからPySparkの場合がほとんど"
   ]
  },
  {
   "cell_type": "code",
   "execution_count": 27,
   "metadata": {
    "slideshow": {
     "slide_type": "slide"
    }
   },
   "outputs": [
    {
     "name": "stderr",
     "output_type": "stream",
     "text": [
      "/Users/tueno/.pyenv/versions/3.10.6/envs/pythonspark/lib/python3.10/site-packages/pyspark/sql/pandas/conversion.py:474: FutureWarning: iteritems is deprecated and will be removed in a future version. Use .items instead.\n",
      "  for column, series in pdf.iteritems():\n",
      "/Users/tueno/.pyenv/versions/3.10.6/envs/pythonspark/lib/python3.10/site-packages/pyspark/sql/pandas/conversion.py:486: FutureWarning: iteritems is deprecated and will be removed in a future version. Use .items instead.\n",
      "  for column, series in pdf.iteritems():\n"
     ]
    },
    {
     "name": "stdout",
     "output_type": "stream",
     "text": [
      "+-------+-----+-----+\n",
      "|student|class|score|\n",
      "+-------+-----+-----+\n",
      "|Larissa|    A|   50|\n",
      "| Jaylan|    B|   69|\n",
      "|  Golda|    A|   68|\n",
      "| Myriam|    A|   70|\n",
      "|Fabiola|    C|   82|\n",
      "|Abigail|    C|   57|\n",
      "|  Hardy|    B|   88|\n",
      "| Jeromy|    C|   93|\n",
      "+-------+-----+-----+\n",
      "\n"
     ]
    }
   ],
   "source": [
    "from pyspark.sql import SparkSession\n",
    "\n",
    "# pandasでつくったDFをSparkのDFへ変換\n",
    "spark = SparkSession.builder.getOrCreate()\n",
    "sdf = spark.createDataFrame(pdf)\n",
    "\n",
    "sdf.show()"
   ]
  },
  {
   "cell_type": "markdown",
   "metadata": {
    "slideshow": {
     "slide_type": "slide"
    }
   },
   "source": [
    "## 抽出（WHERE）\n",
    "<hr>\n",
    "\n",
    "- データからA組のテスト結果の点数と生徒の名前を抽出する\n",
    "- PySparkを使って書いた場合このようになる"
   ]
  },
  {
   "cell_type": "code",
   "execution_count": 14,
   "metadata": {
    "slideshow": {
     "slide_type": "-"
    }
   },
   "outputs": [
    {
     "name": "stdout",
     "output_type": "stream",
     "text": [
      "+-------+-----+\n",
      "|student|score|\n",
      "+-------+-----+\n",
      "|Larissa|   50|\n",
      "|  Golda|   68|\n",
      "| Myriam|   70|\n",
      "+-------+-----+\n",
      "\n"
     ]
    }
   ],
   "source": [
    "sdf.filter(sdf['class'] == 'A').select('student','score').show()"
   ]
  },
  {
   "cell_type": "code",
   "execution_count": 15,
   "metadata": {
    "slideshow": {
     "slide_type": "skip"
    }
   },
   "outputs": [
    {
     "name": "stdout",
     "output_type": "stream",
     "text": [
      "+-------+-----+\n",
      "|student|score|\n",
      "+-------+-----+\n",
      "|Larissa|   50|\n",
      "|  Golda|   68|\n",
      "| Myriam|   70|\n",
      "+-------+-----+\n",
      "\n"
     ]
    }
   ],
   "source": [
    "# dropを使って表示する列を指定するとき\n",
    "sdf.filter(sdf['class'] == 'A').drop('class').show()"
   ]
  },
  {
   "cell_type": "markdown",
   "metadata": {
    "slideshow": {
     "slide_type": "slide"
    }
   },
   "source": [
    "- SQL, pandas, PySparkとコードを比較する\n",
    "\n",
    "SQL\n",
    "```\n",
    "SELECT id, student, class\n",
    "FROM test_result\n",
    "WHERE class == 'A'\n",
    "```\n",
    "\n",
    "pandas\n",
    "```pandas\n",
    "pdf.loc[pdf['class'] == 'A', ['student', 'score']]b\n",
    "```\n",
    "PySpark\n",
    "```PySpark\n",
    "sdf.filter(sdf['class'] == 'A').select('student','score').show()\n",
    "```"
   ]
  },
  {
   "cell_type": "markdown",
   "metadata": {
    "slideshow": {
     "slide_type": "notes"
    }
   },
   "source": [
    "pandasではメソッドで角かっこを使っていて紛らわしい気もする"
   ]
  },
  {
   "cell_type": "markdown",
   "metadata": {
    "slideshow": {
     "slide_type": "slide"
    }
   },
   "source": [
    "## 複数の条件で抽出\n",
    "<hr>\n",
    "\n",
    "- 「C組のうち80点以上の生徒」で抽出する"
   ]
  },
  {
   "cell_type": "code",
   "execution_count": 16,
   "metadata": {
    "slideshow": {
     "slide_type": "-"
    }
   },
   "outputs": [
    {
     "name": "stdout",
     "output_type": "stream",
     "text": [
      "+-------+-----+-----+\n",
      "|student|class|score|\n",
      "+-------+-----+-----+\n",
      "|Fabiola|    C|   82|\n",
      "| Jeromy|    C|   93|\n",
      "+-------+-----+-----+\n",
      "\n"
     ]
    }
   ],
   "source": [
    "sdf.filter((sdf['class'] == 'C') & (sdf['score'] >= 80)).show()"
   ]
  },
  {
   "cell_type": "markdown",
   "metadata": {
    "slideshow": {
     "slide_type": "slide"
    }
   },
   "source": [
    "pandas\n",
    "```pandas\n",
    "pdf.loc[(pdf['class'] == 'C') & (pdf['score'] >= 80)]\n",
    "```\n",
    "PySpark\n",
    "```PySpark\n",
    "sdf.filter((sdf['class'] == 'C') & (sdf['score'] >= 80)).show()\n",
    "```"
   ]
  },
  {
   "cell_type": "markdown",
   "metadata": {
    "slideshow": {
     "slide_type": "slide"
    }
   },
   "source": [
    "## 結合（JOIN）\n",
    "<hr>\n",
    "\n",
    "- PySparkのDF変換した際`index`の情報が抜け落ちるので`student_id`として再定義する\n",
    "- `withColumn`メソッドをうまく使えば解決できそうだが手が及ばなかった"
   ]
  },
  {
   "cell_type": "code",
   "execution_count": 17,
   "metadata": {
    "slideshow": {
     "slide_type": "-"
    }
   },
   "outputs": [],
   "source": [
    "student = pd.DataFrame({\n",
    "    'name': ['Larissa', 'Jaylan', 'Golda', 'Myriam', 'Fabiola', 'Abigail', 'Bernice', 'Hardy', 'Jeromy'],\n",
    "    'class': list('ABAACCBBC'),\n",
    "    'student_id': ['A1', 'B1', 'A2', 'A3', 'C1', 'C2', 'B2', 'B3', 'C4']\n",
    "})\n",
    "\n",
    "s_attendance = spark.createDataFrame(attendance)\n",
    "s_student = spark.createDataFrame(student)"
   ]
  },
  {
   "cell_type": "markdown",
   "metadata": {
    "slideshow": {
     "slide_type": "slide"
    }
   },
   "source": [
    "- `INNER JOIN`をPySparkにより実装すると以下のようになる"
   ]
  },
  {
   "cell_type": "code",
   "execution_count": 18,
   "metadata": {
    "slideshow": {
     "slide_type": "-"
    }
   },
   "outputs": [
    {
     "name": "stderr",
     "output_type": "stream",
     "text": [
      "[Stage 12:=========>        (4 + 4) / 8][Stage 13:>                 (0 + 6) / 8]\r"
     ]
    },
    {
     "name": "stdout",
     "output_type": "stream",
     "text": [
      "+----------+--------+-------+-----+\n",
      "|student_id| subject|   name|class|\n",
      "+----------+--------+-------+-----+\n",
      "|        A1|    math|Larissa|    A|\n",
      "|        A1|    math|Larissa|    A|\n",
      "|        B1|    math| Jaylan|    B|\n",
      "|        B2| History|Bernice|    B|\n",
      "|        B3| History|  Hardy|    B|\n",
      "|        C1|Japanese|Fabiola|    C|\n",
      "|        C2| History|Abigail|    C|\n",
      "|        C2|    math|Abigail|    C|\n",
      "|        C4| English| Jeromy|    C|\n",
      "+----------+--------+-------+-----+\n",
      "\n"
     ]
    },
    {
     "name": "stderr",
     "output_type": "stream",
     "text": [
      "\r",
      "                                                                                \r"
     ]
    }
   ],
   "source": [
    "s_attendance.join(s_student, 'student_id', 'inner').show()"
   ]
  },
  {
   "cell_type": "markdown",
   "metadata": {
    "slideshow": {
     "slide_type": "slide"
    }
   },
   "source": [
    "- 続いて`LEFT JOIN`をやってみる\n",
    "- `INNER JOIN`と同様に，`join`メソッドの引数で"
   ]
  },
  {
   "cell_type": "code",
   "execution_count": 19,
   "metadata": {
    "slideshow": {
     "slide_type": "-"
    }
   },
   "outputs": [
    {
     "name": "stdout",
     "output_type": "stream",
     "text": [
      "+----------+-------+-----+-------+\n",
      "|student_id|   name|class|subject|\n",
      "+----------+-------+-----+-------+\n",
      "|        B1| Jaylan|    B|   null|\n",
      "|        B2|Bernice|    B|History|\n",
      "|        B3|  Hardy|    B|History|\n",
      "+----------+-------+-----+-------+\n",
      "\n"
     ]
    }
   ],
   "source": [
    "# LEFTJOIN\n",
    "sb_student = s_student.filter(s_student['class'] == 'B')\n",
    "shistory_attendance = s_attendance.filter(s_attendance['subject'] == 'History')\n",
    "# indexを使っていないため，結合の指定がしやすい（のかも）\n",
    "sb_student.join(shistory_attendance, \"student_id\", \"left\").show()"
   ]
  },
  {
   "cell_type": "markdown",
   "metadata": {
    "slideshow": {
     "slide_type": "slide"
    }
   },
   "source": [
    "SQL\n",
    "```\n",
    "SELECT *\n",
    "FROM student LEFT JOIN attendance\n",
    "  ON student.id = attendance.student_id\n",
    "WHERE student.class = 'B' AND attendance.subject = 'History'\n",
    "```\n",
    "pandas\n",
    "```\n",
    "pd.merge(b_student,history_attendance,left_index=True,right_on='student_id',how='left',)\n",
    "```\n",
    "PySpark\n",
    "```\n",
    "sb_student.join(shistory_attendance, \"student_id\", \"left\").show()\n",
    "```"
   ]
  },
  {
   "cell_type": "markdown",
   "metadata": {
    "slideshow": {
     "slide_type": "slide"
    }
   },
   "source": [
    "## 集約（GROUP BY）\n",
    "<hr>\n",
    "\n",
    "- まずはDFの変換をする"
   ]
  },
  {
   "cell_type": "code",
   "execution_count": 20,
   "metadata": {
    "slideshow": {
     "slide_type": "-"
    }
   },
   "outputs": [],
   "source": [
    "s_test_result = spark.createDataFrame(test_result)"
   ]
  },
  {
   "cell_type": "markdown",
   "metadata": {
    "slideshow": {
     "slide_type": "slide"
    }
   },
   "source": [
    "- pandasの場合と同様に「クラスごと，教科ごとの平均点」を求めてみる"
   ]
  },
  {
   "cell_type": "code",
   "execution_count": 21,
   "metadata": {
    "slideshow": {
     "slide_type": "-"
    }
   },
   "outputs": [
    {
     "name": "stderr",
     "output_type": "stream",
     "text": [
      "\r",
      "[Stage 23:>                                                         (0 + 8) / 8]\r"
     ]
    },
    {
     "name": "stdout",
     "output_type": "stream",
     "text": [
      "+-----+-------+------------------+\n",
      "|class|subject|        avg(score)|\n",
      "+-----+-------+------------------+\n",
      "|    A|   math| 70.66666666666667|\n",
      "|    A|English| 70.33333333333333|\n",
      "|    B|   math|              63.0|\n",
      "|    B|English|              70.0|\n",
      "|    C|English|              67.0|\n",
      "|    C|   math|50.666666666666664|\n",
      "+-----+-------+------------------+\n",
      "\n"
     ]
    },
    {
     "name": "stderr",
     "output_type": "stream",
     "text": [
      "\r",
      "                                                                                \r"
     ]
    }
   ],
   "source": [
    "s_test_result.groupBy('class','subject').mean().show()"
   ]
  },
  {
   "cell_type": "markdown",
   "metadata": {
    "slideshow": {
     "slide_type": "slide"
    }
   },
   "source": [
    "SQL\n",
    "```\n",
    "SELECT class, subject, avg(score)\n",
    "FROM test_result\n",
    "GROUP BY class, subject\n",
    "```\n",
    "pandas\n",
    "```\n",
    "test_result.groupby(['class', 'subject']).mean()\n",
    "```\n",
    "PySpark\n",
    "```\n",
    "s_test_result.groupBy('class','subject').mean().show()\n",
    "```"
   ]
  },
  {
   "cell_type": "markdown",
   "metadata": {
    "slideshow": {
     "slide_type": "slide"
    }
   },
   "source": [
    "- 集約関数が複数存在する場合\n",
    "- `agg()`メソッドを使って表現，計算のために`pyspark.sql.functions`ライブラリをインポートしている"
   ]
  },
  {
   "cell_type": "code",
   "execution_count": 22,
   "metadata": {
    "slideshow": {
     "slide_type": "-"
    },
    "tags": []
   },
   "outputs": [
    {
     "name": "stderr",
     "output_type": "stream",
     "text": [
      "\r",
      "[Stage 26:>                                                         (0 + 8) / 8]\r"
     ]
    },
    {
     "name": "stdout",
     "output_type": "stream",
     "text": [
      "+-----+-------+------------------+----------+\n",
      "|class|subject|        avg(score)|max(score)|\n",
      "+-----+-------+------------------+----------+\n",
      "|    A|   math| 70.66666666666667|        96|\n",
      "|    A|English| 70.33333333333333|        74|\n",
      "|    B|   math|              63.0|        85|\n",
      "|    B|English|              70.0|        76|\n",
      "|    C|English|              67.0|        77|\n",
      "|    C|   math|50.666666666666664|        56|\n",
      "+-----+-------+------------------+----------+\n",
      "\n"
     ]
    },
    {
     "name": "stderr",
     "output_type": "stream",
     "text": [
      "\r",
      "                                                                                \r"
     ]
    }
   ],
   "source": [
    "import pyspark.sql.functions as F\n",
    "\n",
    "s_test_result.groupBy('class','subject').agg(F.avg('score'), F.max('score')).show()"
   ]
  },
  {
   "cell_type": "markdown",
   "metadata": {
    "slideshow": {
     "slide_type": "slide"
    }
   },
   "source": [
    "## SparkSQLについて\n",
    "<hr>\n",
    "\n",
    "- PySparkはPandasよりもSQLに近い形で書くことができて便利\n",
    "- SQL文によって操作することもできる"
   ]
  },
  {
   "cell_type": "markdown",
   "metadata": {
    "slideshow": {
     "slide_type": "slide"
    }
   },
   "source": [
    "- 先ほど行ったPySparkでの抽出をSQLで行う[8]"
   ]
  },
  {
   "cell_type": "code",
   "execution_count": 23,
   "metadata": {
    "slideshow": {
     "slide_type": "-"
    }
   },
   "outputs": [
    {
     "name": "stdout",
     "output_type": "stream",
     "text": [
      "+-------+-----+\n",
      "|student|score|\n",
      "+-------+-----+\n",
      "|Larissa|   50|\n",
      "|  Golda|   68|\n",
      "| Myriam|   70|\n",
      "+-------+-----+\n",
      "\n"
     ]
    }
   ],
   "source": [
    "# SparkSQLで操作するテーブルを登録\n",
    "sdf.createOrReplaceTempView('test_result')\n",
    "\n",
    "# SQLによる操作\n",
    "query = '''\n",
    "SELECT student, score\n",
    "        FROM test_result\n",
    "        WHERE class == 'A'\n",
    "'''\n",
    "\n",
    "spark.sql(query).show()"
   ]
  },
  {
   "cell_type": "markdown",
   "metadata": {
    "slideshow": {
     "slide_type": "notes"
    }
   },
   "source": [
    "SQLに習熟している人はPySparkのメソッドを覚えなくても良い気がする"
   ]
  },
  {
   "cell_type": "markdown",
   "metadata": {
    "slideshow": {
     "slide_type": "slide"
    },
    "tags": []
   },
   "source": [
    "# PandasとPysparkの比較"
   ]
  },
  {
   "cell_type": "markdown",
   "metadata": {
    "slideshow": {
     "slide_type": "slide"
    }
   },
   "source": [
    "## 乱数によるデータセット作成\n",
    "<hr>\n",
    "\n",
    "- 乱数によってデータを生成[9]する\n",
    "- データサイズはおよそ80KB"
   ]
  },
  {
   "cell_type": "code",
   "execution_count": 24,
   "metadata": {
    "slideshow": {
     "slide_type": "-"
    }
   },
   "outputs": [
    {
     "data": {
      "text/plain": [
       "80128"
      ]
     },
     "execution_count": 24,
     "metadata": {},
     "output_type": "execute_result"
    }
   ],
   "source": [
    "np.random.seed(seed=42)\n",
    "r_pdf = pd.DataFrame(np.random.rand(100,100))\n",
    "r_sdf = spark.createDataFrame(r_pdf)\n",
    "#Byte単位でデータサイズを表示\n",
    "r_pdf.memory_usage().sum()"
   ]
  },
  {
   "cell_type": "markdown",
   "metadata": {
    "slideshow": {
     "slide_type": "slide"
    }
   },
   "source": [
    "## 時間計測\n",
    "<hr>\n",
    "\n",
    "- 一つのカラムに関してソートを行う時間を計測することにより比較する\n",
    "- pandasの場合"
   ]
  },
  {
   "cell_type": "code",
   "execution_count": 25,
   "metadata": {
    "slideshow": {
     "slide_type": "-"
    }
   },
   "outputs": [
    {
     "name": "stdout",
     "output_type": "stream",
     "text": [
      "0.0003958750021411106\n"
     ]
    }
   ],
   "source": [
    "import time\n",
    "\n",
    "start = time.perf_counter() \n",
    "\n",
    "r_pdf.sort_values([0])\n",
    "\n",
    "print(time.perf_counter() - start)"
   ]
  },
  {
   "cell_type": "markdown",
   "metadata": {
    "slideshow": {
     "slide_type": "slide"
    }
   },
   "source": [
    "- PySparkの場合"
   ]
  },
  {
   "cell_type": "code",
   "execution_count": 26,
   "metadata": {
    "slideshow": {
     "slide_type": "-"
    }
   },
   "outputs": [
    {
     "name": "stdout",
     "output_type": "stream",
     "text": [
      "0.04507395801192615\n"
     ]
    }
   ],
   "source": [
    "import time\n",
    "\n",
    "start = time.perf_counter()\n",
    "\n",
    "r_sdf.sort(\"0\")\n",
    "\n",
    "print(time.perf_counter() - start)"
   ]
  },
  {
   "cell_type": "markdown",
   "metadata": {
    "slideshow": {
     "slide_type": "slide"
    }
   },
   "source": [
    "- PySparkとpandasそれぞれの場合について実行時間を比較すると圧倒的にpandasの方が早い\n",
    "- [10]ではPySparkとpandasの性能比較をより詳しく行なっている\n",
    "- [10]内でも，平均に関しては常にpandasの方が早い\n",
    "- データのサイズが1,000,000×1000を越え，かつ相関を求めるといった複雑な処理を行うとPySparkの性能が上回る\n",
    "- 下の図では横軸がそれぞれデータの行，列を表し，縦軸では計算時間を表している\n",
    "\n",
    "\n",
    "<img src=\"pic4.png\" width=\"75%\">"
   ]
  },
  {
   "cell_type": "markdown",
   "metadata": {
    "slideshow": {
     "slide_type": "slide"
    }
   },
   "source": [
    "## 終わりに\n",
    "<hr>\n",
    "\n",
    "- PySparkによるデータ前処理の例を参考文献に数例紹介した\n",
    "- pandasっぽい文法でSparkを動かそうというコンセプトのKoalasというものもある\n",
    "- Sparkのほうが処理が早いからと言って全ての分析ケースに対してpandasからPySpark(Spark)に置き換えるのは得策ではない\n",
    "- プロジェクトとして行なっていく際には，まずは小さなデータからpandasを使ってアドホックな分析を行い，分析の方針が決まってからSparkを扱うといったパターンが想定される．"
   ]
  },
  {
   "cell_type": "markdown",
   "metadata": {
    "slideshow": {
     "slide_type": "slide"
    }
   },
   "source": [
    "## フリートーク（その3）\n",
    "<hr>\n",
    "\n",
    "質問お待ちしてます！"
   ]
  },
  {
   "cell_type": "markdown",
   "metadata": {
    "jp-MarkdownHeadingCollapsed": true,
    "slideshow": {
     "slide_type": "slide"
    },
    "tags": []
   },
   "source": [
    "## 参考\n",
    "<hr>\n",
    "\n",
    "### スライド中の参考文献\n",
    "[1] https://bookclub.kodansha.co.jp/product?item=0000275420  \n",
    "[2] https://docs.python.org/ja/3/  \n",
    "[3] https://pandas.pydata.org/docs/  \n",
    "[4] https://pandas.pydata.org/docs/user_guide/10min.html  \n",
    "[5] https://sparkbyexamples.com/pyspark/pandas-vs-pyspark-dataframe-with-examples/amp/  \n",
    "[6] https://www.ohitori.fun/entry/basic-data-analysis-in-pandas  \n",
    "[7] https://qiita.com/driller/items/ef8a16be03e146ce2183  \n",
    "[8] https://blog.serverworks.co.jp/introducing-pyspark-6  \n",
    "[9] https://qiita.com/yukifddd/items/5668483705ef9d89a0c9  \n",
    "[10] https://towardsdatascience.com/parallelize-pandas-dataframe-computations-w-spark-dataframe-bba4c924487c\n",
    "\n",
    "### PySparkによるデータ前処理の例\n",
    "https://techblog.nhn-techorus.com/archives/7301  \n",
    "https://www.ariseanalytics.com/activities/report/20211210/"
   ]
  }
 ],
 "metadata": {
  "celltoolbar": "Slideshow",
  "kernelspec": {
   "display_name": "Python 3 (ipykernel)",
   "language": "python",
   "name": "python3"
  },
  "language_info": {
   "codemirror_mode": {
    "name": "ipython",
    "version": 3
   },
   "file_extension": ".py",
   "mimetype": "text/x-python",
   "name": "python",
   "nbconvert_exporter": "python",
   "pygments_lexer": "ipython3",
   "version": "3.10.6"
  },
  "livereveal": {
   "scroll": true,
   "slideNumber": true
  },
  "toc-autonumbering": false,
  "toc-showcode": false,
  "toc-showmarkdowntxt": false,
  "toc-showtags": true,
  "vscode": {
   "interpreter": {
    "hash": "cd6581b7dc1e49639aa4c96a6482644981038569af5a243d9e8067914ce95a4f"
   }
  }
 },
 "nbformat": 4,
 "nbformat_minor": 4
}
